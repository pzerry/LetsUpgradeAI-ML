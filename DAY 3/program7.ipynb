{
 "cells": [
  {
   "cell_type": "markdown",
   "metadata": {},
   "source": [
    "# Create Github profile and upload Githubs Assignment link\n",
    "\n",
    "__step 1__: _Open Github link\n",
    "\n",
    "__step 2__: _Sign Up and profile will created\n",
    "\n",
    "__step 3__: _Make Repository labeled as LetsUpgrade AI/ML\n",
    "\n",
    "__step 4__: _upload file there\n",
    "\n",
    "__step 5__: _copy that url link and paste it in shared form\n",
    "\n"
   ]
  },
  {
   "cell_type": "code",
   "execution_count": null,
   "metadata": {},
   "outputs": [],
   "source": []
  }
 ],
 "metadata": {
  "kernelspec": {
   "display_name": "Python 3",
   "language": "python",
   "name": "python3"
  },
  "language_info": {
   "codemirror_mode": {
    "name": "ipython",
    "version": 3
   },
   "file_extension": ".py",
   "mimetype": "text/x-python",
   "name": "python",
   "nbconvert_exporter": "python",
   "pygments_lexer": "ipython3",
   "version": "3.7.6"
  }
 },
 "nbformat": 4,
 "nbformat_minor": 4
}
