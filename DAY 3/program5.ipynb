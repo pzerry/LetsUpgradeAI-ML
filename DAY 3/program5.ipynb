{
 "cells": [
  {
   "cell_type": "code",
   "execution_count": 3,
   "metadata": {},
   "outputs": [
    {
     "name": "stdout",
     "output_type": "stream",
     "text": [
      "celsius 426.6666666666667\n",
      "kelvin 699.8166666666666\n"
     ]
    }
   ],
   "source": [
    "faranheit=25\n",
    "celsius=(32*faranheit-32)*5/9\n",
    "kelvin=(32*faranheit-32)*5/9+273.15\n",
    "print(\"celsius=\",celsius)\n",
    "print(\"kelvin=\",kelvin)"
   ]
  },
  {
   "cell_type": "code",
   "execution_count": null,
   "metadata": {},
   "outputs": [],
   "source": []
  }
 ],
 "metadata": {
  "kernelspec": {
   "display_name": "Python 3",
   "language": "python",
   "name": "python3"
  },
  "language_info": {
   "codemirror_mode": {
    "name": "ipython",
    "version": 3
   },
   "file_extension": ".py",
   "mimetype": "text/x-python",
   "name": "python",
   "nbconvert_exporter": "python",
   "pygments_lexer": "ipython3",
   "version": "3.7.6"
  }
 },
 "nbformat": 4,
 "nbformat_minor": 4
}
