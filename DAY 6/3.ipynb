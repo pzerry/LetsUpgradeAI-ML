{
 "cells": [
  {
   "cell_type": "markdown",
   "metadata": {},
   "source": [
    "# "
   ]
  },
  {
   "cell_type": "code",
   "execution_count": 16,
   "metadata": {},
   "outputs": [
    {
     "name": "stdout",
     "output_type": "stream",
     "text": [
      "<class 'set'>\n",
      "{'Artificial Intelligence', 'Deep Learning', 'Machine', 'Python'}\n",
      "{'Deep Learning', 'Neural Network', 'Unsupervised', 'Supervised'}\n",
      "After removing from set1:  {'Deep Learning', 'Machine', 'Python'}\n",
      "{'Supervised', 'Unsupervised', 'Python', 'Neural Network', 'Deep Learning', 'Machine'}\n",
      "{'Deep Learning'}\n",
      "{'Deep Learning'}\n",
      "{'Machine', 'Python'}\n",
      "{'Machine', 'Python'}\n"
     ]
    }
   ],
   "source": [
    "set1 = {\"Artificial Intelligence\",\"Machine\",\"Deep Learning\"}\n",
    "set2 = set()\n",
    "set3 = {\"Artificial Intelligence\",\"Machine Learning\",\"Supervised\",\"Deep Learning\"}\n",
    "print(type(set1))\n",
    "set1.add(\"Python\")\n",
    "set2.update([\"Neural Network\",\"Supervised\",\"Unsupervised\",\"Deep Learning\"])\n",
    "print(set1)\n",
    "print(set2)\n",
    "set1.discard(\"AN\")  #will not raise error but remove will raise error\n",
    "set1.remove(\"Artificial Intelligence\")  \n",
    "print(\"After removing from set1: \", set1)\n",
    "print(set1.union(set2)) \n",
    "print(set1&set3)  #symmetric intersection\n",
    "(set3.intersection_update(set2,set1))\n",
    "print(set3)\n",
    "print(set1-set3) #difference\n"
   ]
  },
  {
   "cell_type": "code",
   "execution_count": null,
   "metadata": {},
   "outputs": [],
   "source": []
  }
 ],
 "metadata": {
  "kernelspec": {
   "display_name": "Python 3",
   "language": "python",
   "name": "python3"
  },
  "language_info": {
   "codemirror_mode": {
    "name": "ipython",
    "version": 3
   },
   "file_extension": ".py",
   "mimetype": "text/x-python",
   "name": "python",
   "nbconvert_exporter": "python",
   "pygments_lexer": "ipython3",
   "version": "3.7.6"
  }
 },
 "nbformat": 4,
 "nbformat_minor": 4
}
