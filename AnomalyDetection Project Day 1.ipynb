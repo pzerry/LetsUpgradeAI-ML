{
 "cells": [
  {
   "cell_type": "markdown",
   "metadata": {},
   "source": [
    "#                                ANOMALY DETECTION "
   ]
  },
  {
   "cell_type": "markdown",
   "metadata": {},
   "source": [
    "# IMPORT PACKAGES"
   ]
  },
  {
   "cell_type": "code",
   "execution_count": 1,
   "metadata": {},
   "outputs": [],
   "source": [
    "import os\n",
    "import sys\n",
    "from time import time\n",
    "import numpy as np\n",
    "import pandas as pd\n",
    "from sklearn.model_selection import train_test_split\n",
    "from scipy.io import loadmat"
   ]
  },
  {
   "cell_type": "markdown",
   "metadata": {},
   "source": [
    "# METRICS PACKAGES"
   ]
  },
  {
   "cell_type": "code",
   "execution_count": 2,
   "metadata": {},
   "outputs": [],
   "source": [
    "from pyod.utils.utility import standardizer\n",
    "from pyod.utils.utility import precision_n_scores\n",
    "from sklearn.metrics import roc_auc_score"
   ]
  },
  {
   "cell_type": "markdown",
   "metadata": {},
   "source": [
    "# PYOD PACKAGES"
   ]
  },
  {
   "cell_type": "code",
   "execution_count": 3,
   "metadata": {},
   "outputs": [
    {
     "name": "stderr",
     "output_type": "stream",
     "text": [
      "F:\\software\\anaconda\\lib\\site-packages\\sklearn\\utils\\deprecation.py:144: FutureWarning: The sklearn.utils.testing module is  deprecated in version 0.22 and will be removed in version 0.24. The corresponding classes / functions should instead be imported from sklearn.utils. Anything that cannot be imported from sklearn.utils is now part of the private API.\n",
      "  warnings.warn(message, FutureWarning)\n"
     ]
    }
   ],
   "source": [
    "from pyod.models.pca import PCA\n",
    "from pyod.models.mcd import MCD\n",
    "from pyod.models.ocsvm import OCSVM\n",
    "from pyod.models.lof import LOF\n",
    "from pyod.models.cblof import CBLOF\n",
    "from pyod.models.knn import KNN\n",
    "from pyod.models.hbos import HBOS\n",
    "from pyod.models.abod import ABOD\n",
    "from pyod.models.iforest import IForest\n",
    "from pyod.models.feature_bagging import FeatureBagging"
   ]
  },
  {
   "cell_type": "markdown",
   "metadata": {},
   "source": [
    "#  Data File List"
   ]
  },
  {
   "cell_type": "code",
   "execution_count": 4,
   "metadata": {},
   "outputs": [],
   "source": [
    "mat_file_list = ['arrhythmia.mat','cardio.mat','glass.mat','ionosphere.mat','letter.mat','lympho.mat','mnist.mat','musk.mat','optdigits.mat','pendigits.mat','pima.mat','satellite.mat','satimage-2.mat','shuttle.mat','vertebral.mat','vowels.mat','wbc.mat']\n"
   ]
  },
  {
   "cell_type": "markdown",
   "metadata": {},
   "source": [
    "# Load matFile and its features"
   ]
  },
  {
   "cell_type": "code",
   "execution_count": 5,
   "metadata": {},
   "outputs": [
    {
     "data": {
      "text/plain": [
       "(numpy.ndarray, (452, 1))"
      ]
     },
     "execution_count": 5,
     "metadata": {},
     "output_type": "execute_result"
    }
   ],
   "source": [
    "data = loadmat('arrhythmia.mat')\n",
    "type(data['X']), data['X'].shape\n",
    "type(data['y']), data['y'].shape"
   ]
  },
  {
   "cell_type": "markdown",
   "metadata": {},
   "source": [
    "# NINE OUTLIERS DETECTION TOOLS TO BE COMPARED"
   ]
  },
  {
   "cell_type": "code",
   "execution_count": 18,
   "metadata": {},
   "outputs": [],
   "source": [
    "df_columns = ['Data', '#Samples','# Dimensions', 'Outlier %', 'ABOD', 'CBLOF', 'FB', 'HBOS', 'IF', 'KNN', 'LOF', 'MCD', 'OCSVM', 'PCA']\n",
    "roc_df = pd.DataFrame(columns = df_columns)\n",
    "prn_df = pd.DataFrame(columns = df_columns)\n",
    "time_df = pd.DataFrame(columns = df_columns)\n"
   ]
  },
  {
   "cell_type": "markdown",
   "metadata": {},
   "source": [
    "# Methods for Anomaly Detection"
   ]
  },
  {
   "cell_type": "code",
   "execution_count": null,
   "metadata": {},
   "outputs": [
    {
     "name": "stdout",
     "output_type": "stream",
     "text": [
      "\n",
      "...Processing arrhythmia.mat .....\n",
      "Angle-based Outlier Detector ROC:0.7687, precision @ rank n:0.3571,execution time: 0.401\n"
     ]
    },
    {
     "name": "stderr",
     "output_type": "stream",
     "text": [
      "F:\\software\\anaconda\\lib\\site-packages\\ipykernel_launcher.py:52: UserWarning: Pandas doesn't allow columns to be created via a new attribute name - see https://pandas.pydata.org/pandas-docs/stable/indexing.html#attribute-access\n",
      "F:\\software\\anaconda\\lib\\site-packages\\ipykernel_launcher.py:56: UserWarning: Pandas doesn't allow columns to be created via a new attribute name - see https://pandas.pydata.org/pandas-docs/stable/indexing.html#attribute-access\n",
      "F:\\software\\anaconda\\lib\\site-packages\\ipykernel_launcher.py:60: UserWarning: Pandas doesn't allow columns to be created via a new attribute name - see https://pandas.pydata.org/pandas-docs/stable/indexing.html#attribute-access\n"
     ]
    },
    {
     "name": "stdout",
     "output_type": "stream",
     "text": [
      "Cluster-based Local Outlier Factor ROC:0.7684, precision @ rank n:0.4643,execution time: 0.3616\n"
     ]
    },
    {
     "name": "stderr",
     "output_type": "stream",
     "text": [
      "F:\\software\\anaconda\\lib\\site-packages\\ipykernel_launcher.py:52: UserWarning: Pandas doesn't allow columns to be created via a new attribute name - see https://pandas.pydata.org/pandas-docs/stable/indexing.html#attribute-access\n",
      "F:\\software\\anaconda\\lib\\site-packages\\ipykernel_launcher.py:56: UserWarning: Pandas doesn't allow columns to be created via a new attribute name - see https://pandas.pydata.org/pandas-docs/stable/indexing.html#attribute-access\n",
      "F:\\software\\anaconda\\lib\\site-packages\\ipykernel_launcher.py:60: UserWarning: Pandas doesn't allow columns to be created via a new attribute name - see https://pandas.pydata.org/pandas-docs/stable/indexing.html#attribute-access\n"
     ]
    },
    {
     "name": "stdout",
     "output_type": "stream",
     "text": [
      "FeatureBagging ROC:0.7799, precision @ rank n:0.5,execution time: 1.4622\n"
     ]
    },
    {
     "name": "stderr",
     "output_type": "stream",
     "text": [
      "F:\\software\\anaconda\\lib\\site-packages\\ipykernel_launcher.py:52: UserWarning: Pandas doesn't allow columns to be created via a new attribute name - see https://pandas.pydata.org/pandas-docs/stable/indexing.html#attribute-access\n",
      "F:\\software\\anaconda\\lib\\site-packages\\ipykernel_launcher.py:56: UserWarning: Pandas doesn't allow columns to be created via a new attribute name - see https://pandas.pydata.org/pandas-docs/stable/indexing.html#attribute-access\n",
      "F:\\software\\anaconda\\lib\\site-packages\\ipykernel_launcher.py:60: UserWarning: Pandas doesn't allow columns to be created via a new attribute name - see https://pandas.pydata.org/pandas-docs/stable/indexing.html#attribute-access\n"
     ]
    },
    {
     "name": "stdout",
     "output_type": "stream",
     "text": [
      "Histogram-base Outlier Detection ROC:0.8511, precision @ rank n:0.5714,execution time: 0.1795\n"
     ]
    },
    {
     "name": "stderr",
     "output_type": "stream",
     "text": [
      "F:\\software\\anaconda\\lib\\site-packages\\ipykernel_launcher.py:52: UserWarning: Pandas doesn't allow columns to be created via a new attribute name - see https://pandas.pydata.org/pandas-docs/stable/indexing.html#attribute-access\n",
      "F:\\software\\anaconda\\lib\\site-packages\\ipykernel_launcher.py:56: UserWarning: Pandas doesn't allow columns to be created via a new attribute name - see https://pandas.pydata.org/pandas-docs/stable/indexing.html#attribute-access\n",
      "F:\\software\\anaconda\\lib\\site-packages\\ipykernel_launcher.py:60: UserWarning: Pandas doesn't allow columns to be created via a new attribute name - see https://pandas.pydata.org/pandas-docs/stable/indexing.html#attribute-access\n"
     ]
    },
    {
     "name": "stdout",
     "output_type": "stream",
     "text": [
      "Isolation Forest ROC:0.8527, precision @ rank n:0.5714,execution time: 1.1159\n"
     ]
    },
    {
     "name": "stderr",
     "output_type": "stream",
     "text": [
      "F:\\software\\anaconda\\lib\\site-packages\\ipykernel_launcher.py:52: UserWarning: Pandas doesn't allow columns to be created via a new attribute name - see https://pandas.pydata.org/pandas-docs/stable/indexing.html#attribute-access\n",
      "F:\\software\\anaconda\\lib\\site-packages\\ipykernel_launcher.py:56: UserWarning: Pandas doesn't allow columns to be created via a new attribute name - see https://pandas.pydata.org/pandas-docs/stable/indexing.html#attribute-access\n",
      "F:\\software\\anaconda\\lib\\site-packages\\ipykernel_launcher.py:60: UserWarning: Pandas doesn't allow columns to be created via a new attribute name - see https://pandas.pydata.org/pandas-docs/stable/indexing.html#attribute-access\n"
     ]
    },
    {
     "name": "stdout",
     "output_type": "stream",
     "text": [
      "K Nearest Neighbour ROC:0.782, precision @ rank n:0.5,execution time: 0.2474\n"
     ]
    },
    {
     "name": "stderr",
     "output_type": "stream",
     "text": [
      "F:\\software\\anaconda\\lib\\site-packages\\ipykernel_launcher.py:52: UserWarning: Pandas doesn't allow columns to be created via a new attribute name - see https://pandas.pydata.org/pandas-docs/stable/indexing.html#attribute-access\n",
      "F:\\software\\anaconda\\lib\\site-packages\\ipykernel_launcher.py:56: UserWarning: Pandas doesn't allow columns to be created via a new attribute name - see https://pandas.pydata.org/pandas-docs/stable/indexing.html#attribute-access\n",
      "F:\\software\\anaconda\\lib\\site-packages\\ipykernel_launcher.py:60: UserWarning: Pandas doesn't allow columns to be created via a new attribute name - see https://pandas.pydata.org/pandas-docs/stable/indexing.html#attribute-access\n"
     ]
    },
    {
     "name": "stdout",
     "output_type": "stream",
     "text": [
      "Local Outlier Factor ROC:0.7787, precision @ rank n:0.4643,execution time: 0.2155\n",
      "One-Class SVM ROC:0.7986, precision @ rank n:0.5,execution time: 0.1173\n"
     ]
    },
    {
     "name": "stderr",
     "output_type": "stream",
     "text": [
      "F:\\software\\anaconda\\lib\\site-packages\\ipykernel_launcher.py:52: UserWarning: Pandas doesn't allow columns to be created via a new attribute name - see https://pandas.pydata.org/pandas-docs/stable/indexing.html#attribute-access\n",
      "F:\\software\\anaconda\\lib\\site-packages\\ipykernel_launcher.py:56: UserWarning: Pandas doesn't allow columns to be created via a new attribute name - see https://pandas.pydata.org/pandas-docs/stable/indexing.html#attribute-access\n",
      "F:\\software\\anaconda\\lib\\site-packages\\ipykernel_launcher.py:60: UserWarning: Pandas doesn't allow columns to be created via a new attribute name - see https://pandas.pydata.org/pandas-docs/stable/indexing.html#attribute-access\n",
      "F:\\software\\anaconda\\lib\\site-packages\\ipykernel_launcher.py:52: UserWarning: Pandas doesn't allow columns to be created via a new attribute name - see https://pandas.pydata.org/pandas-docs/stable/indexing.html#attribute-access\n",
      "F:\\software\\anaconda\\lib\\site-packages\\ipykernel_launcher.py:56: UserWarning: Pandas doesn't allow columns to be created via a new attribute name - see https://pandas.pydata.org/pandas-docs/stable/indexing.html#attribute-access\n",
      "F:\\software\\anaconda\\lib\\site-packages\\ipykernel_launcher.py:60: UserWarning: Pandas doesn't allow columns to be created via a new attribute name - see https://pandas.pydata.org/pandas-docs/stable/indexing.html#attribute-access\n",
      "F:\\software\\anaconda\\lib\\site-packages\\sklearn\\covariance\\_robust_covariance.py:644: UserWarning: The covariance matrix associated to your dataset is not full rank\n",
      "  warnings.warn(\"The covariance matrix associated to your dataset \"\n"
     ]
    },
    {
     "name": "stdout",
     "output_type": "stream",
     "text": [
      "Minimum Covariance Determinant ROC:0.8228, precision @ rank n:0.4286,execution time: 1.4713\n",
      "Principal Component Analysis ROC:0.7997, precision @ rank n:0.5,execution time: 0.1556"
     ]
    },
    {
     "name": "stderr",
     "output_type": "stream",
     "text": [
      "F:\\software\\anaconda\\lib\\site-packages\\ipykernel_launcher.py:52: UserWarning: Pandas doesn't allow columns to be created via a new attribute name - see https://pandas.pydata.org/pandas-docs/stable/indexing.html#attribute-access\n",
      "F:\\software\\anaconda\\lib\\site-packages\\ipykernel_launcher.py:56: UserWarning: Pandas doesn't allow columns to be created via a new attribute name - see https://pandas.pydata.org/pandas-docs/stable/indexing.html#attribute-access\n",
      "F:\\software\\anaconda\\lib\\site-packages\\ipykernel_launcher.py:60: UserWarning: Pandas doesn't allow columns to be created via a new attribute name - see https://pandas.pydata.org/pandas-docs/stable/indexing.html#attribute-access\n"
     ]
    },
    {
     "name": "stdout",
     "output_type": "stream",
     "text": [
      "\n",
      "\n",
      "...Processing cardio.mat .....\n"
     ]
    },
    {
     "name": "stderr",
     "output_type": "stream",
     "text": [
      "F:\\software\\anaconda\\lib\\site-packages\\ipykernel_launcher.py:52: UserWarning: Pandas doesn't allow columns to be created via a new attribute name - see https://pandas.pydata.org/pandas-docs/stable/indexing.html#attribute-access\n",
      "F:\\software\\anaconda\\lib\\site-packages\\ipykernel_launcher.py:56: UserWarning: Pandas doesn't allow columns to be created via a new attribute name - see https://pandas.pydata.org/pandas-docs/stable/indexing.html#attribute-access\n",
      "F:\\software\\anaconda\\lib\\site-packages\\ipykernel_launcher.py:60: UserWarning: Pandas doesn't allow columns to be created via a new attribute name - see https://pandas.pydata.org/pandas-docs/stable/indexing.html#attribute-access\n"
     ]
    },
    {
     "name": "stdout",
     "output_type": "stream",
     "text": [
      "Angle-based Outlier Detector ROC:0.5763, precision @ rank n:0.1875,execution time: 1.0953\n"
     ]
    },
    {
     "name": "stderr",
     "output_type": "stream",
     "text": [
      "F:\\software\\anaconda\\lib\\site-packages\\ipykernel_launcher.py:52: UserWarning: Pandas doesn't allow columns to be created via a new attribute name - see https://pandas.pydata.org/pandas-docs/stable/indexing.html#attribute-access\n",
      "F:\\software\\anaconda\\lib\\site-packages\\ipykernel_launcher.py:56: UserWarning: Pandas doesn't allow columns to be created via a new attribute name - see https://pandas.pydata.org/pandas-docs/stable/indexing.html#attribute-access\n",
      "F:\\software\\anaconda\\lib\\site-packages\\ipykernel_launcher.py:60: UserWarning: Pandas doesn't allow columns to be created via a new attribute name - see https://pandas.pydata.org/pandas-docs/stable/indexing.html#attribute-access\n"
     ]
    },
    {
     "name": "stdout",
     "output_type": "stream",
     "text": [
      "Cluster-based Local Outlier Factor ROC:0.8221, precision @ rank n:0.4844,execution time: 0.76\n"
     ]
    },
    {
     "name": "stderr",
     "output_type": "stream",
     "text": [
      "F:\\software\\anaconda\\lib\\site-packages\\ipykernel_launcher.py:52: UserWarning: Pandas doesn't allow columns to be created via a new attribute name - see https://pandas.pydata.org/pandas-docs/stable/indexing.html#attribute-access\n",
      "F:\\software\\anaconda\\lib\\site-packages\\ipykernel_launcher.py:56: UserWarning: Pandas doesn't allow columns to be created via a new attribute name - see https://pandas.pydata.org/pandas-docs/stable/indexing.html#attribute-access\n",
      "F:\\software\\anaconda\\lib\\site-packages\\ipykernel_launcher.py:60: UserWarning: Pandas doesn't allow columns to be created via a new attribute name - see https://pandas.pydata.org/pandas-docs/stable/indexing.html#attribute-access\n"
     ]
    },
    {
     "name": "stdout",
     "output_type": "stream",
     "text": [
      "FeatureBagging ROC:0.4879, precision @ rank n:0.1406,execution time: 1.9689\n",
      "Histogram-base Outlier Detection ROC:0.8453, precision @ rank n:0.4688,execution time: 0.018\n"
     ]
    },
    {
     "name": "stderr",
     "output_type": "stream",
     "text": [
      "F:\\software\\anaconda\\lib\\site-packages\\ipykernel_launcher.py:52: UserWarning: Pandas doesn't allow columns to be created via a new attribute name - see https://pandas.pydata.org/pandas-docs/stable/indexing.html#attribute-access\n",
      "F:\\software\\anaconda\\lib\\site-packages\\ipykernel_launcher.py:56: UserWarning: Pandas doesn't allow columns to be created via a new attribute name - see https://pandas.pydata.org/pandas-docs/stable/indexing.html#attribute-access\n",
      "F:\\software\\anaconda\\lib\\site-packages\\ipykernel_launcher.py:60: UserWarning: Pandas doesn't allow columns to be created via a new attribute name - see https://pandas.pydata.org/pandas-docs/stable/indexing.html#attribute-access\n",
      "F:\\software\\anaconda\\lib\\site-packages\\ipykernel_launcher.py:52: UserWarning: Pandas doesn't allow columns to be created via a new attribute name - see https://pandas.pydata.org/pandas-docs/stable/indexing.html#attribute-access\n",
      "F:\\software\\anaconda\\lib\\site-packages\\ipykernel_launcher.py:56: UserWarning: Pandas doesn't allow columns to be created via a new attribute name - see https://pandas.pydata.org/pandas-docs/stable/indexing.html#attribute-access\n",
      "F:\\software\\anaconda\\lib\\site-packages\\ipykernel_launcher.py:60: UserWarning: Pandas doesn't allow columns to be created via a new attribute name - see https://pandas.pydata.org/pandas-docs/stable/indexing.html#attribute-access\n"
     ]
    },
    {
     "name": "stdout",
     "output_type": "stream",
     "text": [
      "Isolation Forest ROC:0.9414, precision @ rank n:0.5,execution time: 1.1277\n"
     ]
    },
    {
     "name": "stderr",
     "output_type": "stream",
     "text": [
      "F:\\software\\anaconda\\lib\\site-packages\\ipykernel_launcher.py:52: UserWarning: Pandas doesn't allow columns to be created via a new attribute name - see https://pandas.pydata.org/pandas-docs/stable/indexing.html#attribute-access\n",
      "F:\\software\\anaconda\\lib\\site-packages\\ipykernel_launcher.py:56: UserWarning: Pandas doesn't allow columns to be created via a new attribute name - see https://pandas.pydata.org/pandas-docs/stable/indexing.html#attribute-access\n",
      "F:\\software\\anaconda\\lib\\site-packages\\ipykernel_launcher.py:60: UserWarning: Pandas doesn't allow columns to be created via a new attribute name - see https://pandas.pydata.org/pandas-docs/stable/indexing.html#attribute-access\n"
     ]
    },
    {
     "name": "stdout",
     "output_type": "stream",
     "text": [
      "K Nearest Neighbour ROC:0.6959, precision @ rank n:0.2812,execution time: 0.3885\n"
     ]
    },
    {
     "name": "stderr",
     "output_type": "stream",
     "text": [
      "F:\\software\\anaconda\\lib\\site-packages\\ipykernel_launcher.py:52: UserWarning: Pandas doesn't allow columns to be created via a new attribute name - see https://pandas.pydata.org/pandas-docs/stable/indexing.html#attribute-access\n",
      "F:\\software\\anaconda\\lib\\site-packages\\ipykernel_launcher.py:56: UserWarning: Pandas doesn't allow columns to be created via a new attribute name - see https://pandas.pydata.org/pandas-docs/stable/indexing.html#attribute-access\n",
      "F:\\software\\anaconda\\lib\\site-packages\\ipykernel_launcher.py:60: UserWarning: Pandas doesn't allow columns to be created via a new attribute name - see https://pandas.pydata.org/pandas-docs/stable/indexing.html#attribute-access\n"
     ]
    },
    {
     "name": "stdout",
     "output_type": "stream",
     "text": [
      "Local Outlier Factor ROC:0.4715, precision @ rank n:0.125,execution time: 0.2662\n",
      "One-Class SVM ROC:0.9507, precision @ rank n:0.5938,execution time: 0.1805\n"
     ]
    },
    {
     "name": "stderr",
     "output_type": "stream",
     "text": [
      "F:\\software\\anaconda\\lib\\site-packages\\ipykernel_launcher.py:52: UserWarning: Pandas doesn't allow columns to be created via a new attribute name - see https://pandas.pydata.org/pandas-docs/stable/indexing.html#attribute-access\n",
      "F:\\software\\anaconda\\lib\\site-packages\\ipykernel_launcher.py:56: UserWarning: Pandas doesn't allow columns to be created via a new attribute name - see https://pandas.pydata.org/pandas-docs/stable/indexing.html#attribute-access\n",
      "F:\\software\\anaconda\\lib\\site-packages\\ipykernel_launcher.py:60: UserWarning: Pandas doesn't allow columns to be created via a new attribute name - see https://pandas.pydata.org/pandas-docs/stable/indexing.html#attribute-access\n",
      "F:\\software\\anaconda\\lib\\site-packages\\ipykernel_launcher.py:52: UserWarning: Pandas doesn't allow columns to be created via a new attribute name - see https://pandas.pydata.org/pandas-docs/stable/indexing.html#attribute-access\n",
      "F:\\software\\anaconda\\lib\\site-packages\\ipykernel_launcher.py:56: UserWarning: Pandas doesn't allow columns to be created via a new attribute name - see https://pandas.pydata.org/pandas-docs/stable/indexing.html#attribute-access\n",
      "F:\\software\\anaconda\\lib\\site-packages\\ipykernel_launcher.py:60: UserWarning: Pandas doesn't allow columns to be created via a new attribute name - see https://pandas.pydata.org/pandas-docs/stable/indexing.html#attribute-access\n",
      "F:\\software\\anaconda\\lib\\site-packages\\sklearn\\covariance\\_robust_covariance.py:644: UserWarning: The covariance matrix associated to your dataset is not full rank\n",
      "  warnings.warn(\"The covariance matrix associated to your dataset \"\n",
      "F:\\software\\anaconda\\lib\\site-packages\\sklearn\\covariance\\_robust_covariance.py:170: RuntimeWarning: Determinant has increased; this should not happen: log(det) > log(previous_det) (-152.770956835748848 > -250.696836140088948). You may want to try with a higher value of support_fraction (current value: 0.511).\n",
      "  RuntimeWarning)\n"
     ]
    },
    {
     "name": "stdout",
     "output_type": "stream",
     "text": [
      "Minimum Covariance Determinant ROC:0.8778, precision @ rank n:0.3906,execution time: 1.4248\n",
      "Principal Component Analysis ROC:0.9638, precision @ rank n:0.6875,execution time: 0.012\n",
      "\n",
      "...Processing glass.mat .....\n"
     ]
    },
    {
     "name": "stderr",
     "output_type": "stream",
     "text": [
      "F:\\software\\anaconda\\lib\\site-packages\\ipykernel_launcher.py:52: UserWarning: Pandas doesn't allow columns to be created via a new attribute name - see https://pandas.pydata.org/pandas-docs/stable/indexing.html#attribute-access\n",
      "F:\\software\\anaconda\\lib\\site-packages\\ipykernel_launcher.py:56: UserWarning: Pandas doesn't allow columns to be created via a new attribute name - see https://pandas.pydata.org/pandas-docs/stable/indexing.html#attribute-access\n",
      "F:\\software\\anaconda\\lib\\site-packages\\ipykernel_launcher.py:60: UserWarning: Pandas doesn't allow columns to be created via a new attribute name - see https://pandas.pydata.org/pandas-docs/stable/indexing.html#attribute-access\n",
      "F:\\software\\anaconda\\lib\\site-packages\\ipykernel_launcher.py:52: UserWarning: Pandas doesn't allow columns to be created via a new attribute name - see https://pandas.pydata.org/pandas-docs/stable/indexing.html#attribute-access\n",
      "F:\\software\\anaconda\\lib\\site-packages\\ipykernel_launcher.py:56: UserWarning: Pandas doesn't allow columns to be created via a new attribute name - see https://pandas.pydata.org/pandas-docs/stable/indexing.html#attribute-access\n",
      "F:\\software\\anaconda\\lib\\site-packages\\ipykernel_launcher.py:60: UserWarning: Pandas doesn't allow columns to be created via a new attribute name - see https://pandas.pydata.org/pandas-docs/stable/indexing.html#attribute-access\n"
     ]
    },
    {
     "name": "stdout",
     "output_type": "stream",
     "text": [
      "Angle-based Outlier Detector ROC:0.7104, precision @ rank n:0.25,execution time: 0.1307\n",
      "Cluster-based Local Outlier Factor ROC:0.8506, precision @ rank n:0.25,execution time: 0.1068\n"
     ]
    },
    {
     "name": "stderr",
     "output_type": "stream",
     "text": [
      "F:\\software\\anaconda\\lib\\site-packages\\ipykernel_launcher.py:52: UserWarning: Pandas doesn't allow columns to be created via a new attribute name - see https://pandas.pydata.org/pandas-docs/stable/indexing.html#attribute-access\n",
      "F:\\software\\anaconda\\lib\\site-packages\\ipykernel_launcher.py:56: UserWarning: Pandas doesn't allow columns to be created via a new attribute name - see https://pandas.pydata.org/pandas-docs/stable/indexing.html#attribute-access\n",
      "F:\\software\\anaconda\\lib\\site-packages\\ipykernel_launcher.py:60: UserWarning: Pandas doesn't allow columns to be created via a new attribute name - see https://pandas.pydata.org/pandas-docs/stable/indexing.html#attribute-access\n",
      "F:\\software\\anaconda\\lib\\site-packages\\ipykernel_launcher.py:52: UserWarning: Pandas doesn't allow columns to be created via a new attribute name - see https://pandas.pydata.org/pandas-docs/stable/indexing.html#attribute-access\n",
      "F:\\software\\anaconda\\lib\\site-packages\\ipykernel_launcher.py:56: UserWarning: Pandas doesn't allow columns to be created via a new attribute name - see https://pandas.pydata.org/pandas-docs/stable/indexing.html#attribute-access\n",
      "F:\\software\\anaconda\\lib\\site-packages\\ipykernel_launcher.py:60: UserWarning: Pandas doesn't allow columns to be created via a new attribute name - see https://pandas.pydata.org/pandas-docs/stable/indexing.html#attribute-access\n"
     ]
    },
    {
     "name": "stdout",
     "output_type": "stream",
     "text": [
      "FeatureBagging ROC:0.7043, precision @ rank n:0.25,execution time: 0.0968\n",
      "Histogram-base Outlier Detection ROC:0.6524, precision @ rank n:0.0,execution time: 0.007\n"
     ]
    },
    {
     "name": "stderr",
     "output_type": "stream",
     "text": [
      "F:\\software\\anaconda\\lib\\site-packages\\ipykernel_launcher.py:52: UserWarning: Pandas doesn't allow columns to be created via a new attribute name - see https://pandas.pydata.org/pandas-docs/stable/indexing.html#attribute-access\n",
      "F:\\software\\anaconda\\lib\\site-packages\\ipykernel_launcher.py:56: UserWarning: Pandas doesn't allow columns to be created via a new attribute name - see https://pandas.pydata.org/pandas-docs/stable/indexing.html#attribute-access\n",
      "F:\\software\\anaconda\\lib\\site-packages\\ipykernel_launcher.py:60: UserWarning: Pandas doesn't allow columns to be created via a new attribute name - see https://pandas.pydata.org/pandas-docs/stable/indexing.html#attribute-access\n",
      "F:\\software\\anaconda\\lib\\site-packages\\ipykernel_launcher.py:52: UserWarning: Pandas doesn't allow columns to be created via a new attribute name - see https://pandas.pydata.org/pandas-docs/stable/indexing.html#attribute-access\n",
      "F:\\software\\anaconda\\lib\\site-packages\\ipykernel_launcher.py:56: UserWarning: Pandas doesn't allow columns to be created via a new attribute name - see https://pandas.pydata.org/pandas-docs/stable/indexing.html#attribute-access\n",
      "F:\\software\\anaconda\\lib\\site-packages\\ipykernel_launcher.py:60: UserWarning: Pandas doesn't allow columns to be created via a new attribute name - see https://pandas.pydata.org/pandas-docs/stable/indexing.html#attribute-access\n"
     ]
    },
    {
     "name": "stdout",
     "output_type": "stream",
     "text": [
      "Isolation Forest ROC:0.7195, precision @ rank n:0.25,execution time: 0.7314\n",
      "K Nearest Neighbour ROC:0.7805, precision @ rank n:0.25,execution time: 0.0229\n",
      "Local Outlier Factor ROC:0.7774, precision @ rank n:0.25,execution time: 0.007\n",
      "One-Class SVM ROC:0.6189, precision @ rank n:0.25,execution time: 0.004\n"
     ]
    },
    {
     "name": "stderr",
     "output_type": "stream",
     "text": [
      "F:\\software\\anaconda\\lib\\site-packages\\ipykernel_launcher.py:52: UserWarning: Pandas doesn't allow columns to be created via a new attribute name - see https://pandas.pydata.org/pandas-docs/stable/indexing.html#attribute-access\n",
      "F:\\software\\anaconda\\lib\\site-packages\\ipykernel_launcher.py:56: UserWarning: Pandas doesn't allow columns to be created via a new attribute name - see https://pandas.pydata.org/pandas-docs/stable/indexing.html#attribute-access\n",
      "F:\\software\\anaconda\\lib\\site-packages\\ipykernel_launcher.py:60: UserWarning: Pandas doesn't allow columns to be created via a new attribute name - see https://pandas.pydata.org/pandas-docs/stable/indexing.html#attribute-access\n",
      "F:\\software\\anaconda\\lib\\site-packages\\ipykernel_launcher.py:52: UserWarning: Pandas doesn't allow columns to be created via a new attribute name - see https://pandas.pydata.org/pandas-docs/stable/indexing.html#attribute-access\n",
      "F:\\software\\anaconda\\lib\\site-packages\\ipykernel_launcher.py:56: UserWarning: Pandas doesn't allow columns to be created via a new attribute name - see https://pandas.pydata.org/pandas-docs/stable/indexing.html#attribute-access\n",
      "F:\\software\\anaconda\\lib\\site-packages\\ipykernel_launcher.py:60: UserWarning: Pandas doesn't allow columns to be created via a new attribute name - see https://pandas.pydata.org/pandas-docs/stable/indexing.html#attribute-access\n",
      "F:\\software\\anaconda\\lib\\site-packages\\ipykernel_launcher.py:52: UserWarning: Pandas doesn't allow columns to be created via a new attribute name - see https://pandas.pydata.org/pandas-docs/stable/indexing.html#attribute-access\n",
      "F:\\software\\anaconda\\lib\\site-packages\\ipykernel_launcher.py:56: UserWarning: Pandas doesn't allow columns to be created via a new attribute name - see https://pandas.pydata.org/pandas-docs/stable/indexing.html#attribute-access\n",
      "F:\\software\\anaconda\\lib\\site-packages\\ipykernel_launcher.py:60: UserWarning: Pandas doesn't allow columns to be created via a new attribute name - see https://pandas.pydata.org/pandas-docs/stable/indexing.html#attribute-access\n",
      "F:\\software\\anaconda\\lib\\site-packages\\ipykernel_launcher.py:52: UserWarning: Pandas doesn't allow columns to be created via a new attribute name - see https://pandas.pydata.org/pandas-docs/stable/indexing.html#attribute-access\n",
      "F:\\software\\anaconda\\lib\\site-packages\\ipykernel_launcher.py:56: UserWarning: Pandas doesn't allow columns to be created via a new attribute name - see https://pandas.pydata.org/pandas-docs/stable/indexing.html#attribute-access\n",
      "F:\\software\\anaconda\\lib\\site-packages\\ipykernel_launcher.py:60: UserWarning: Pandas doesn't allow columns to be created via a new attribute name - see https://pandas.pydata.org/pandas-docs/stable/indexing.html#attribute-access\n"
     ]
    },
    {
     "name": "stdout",
     "output_type": "stream",
     "text": [
      "Minimum Covariance Determinant ROC:0.7165, precision @ rank n:0.0,execution time: 0.0947\n",
      "Principal Component Analysis ROC:0.622, precision @ rank n:0.25,execution time: 0.0049\n",
      "\n",
      "...Processing ionosphere.mat .....\n"
     ]
    },
    {
     "name": "stderr",
     "output_type": "stream",
     "text": [
      "F:\\software\\anaconda\\lib\\site-packages\\ipykernel_launcher.py:52: UserWarning: Pandas doesn't allow columns to be created via a new attribute name - see https://pandas.pydata.org/pandas-docs/stable/indexing.html#attribute-access\n",
      "F:\\software\\anaconda\\lib\\site-packages\\ipykernel_launcher.py:56: UserWarning: Pandas doesn't allow columns to be created via a new attribute name - see https://pandas.pydata.org/pandas-docs/stable/indexing.html#attribute-access\n",
      "F:\\software\\anaconda\\lib\\site-packages\\ipykernel_launcher.py:60: UserWarning: Pandas doesn't allow columns to be created via a new attribute name - see https://pandas.pydata.org/pandas-docs/stable/indexing.html#attribute-access\n",
      "F:\\software\\anaconda\\lib\\site-packages\\ipykernel_launcher.py:52: UserWarning: Pandas doesn't allow columns to be created via a new attribute name - see https://pandas.pydata.org/pandas-docs/stable/indexing.html#attribute-access\n",
      "F:\\software\\anaconda\\lib\\site-packages\\ipykernel_launcher.py:56: UserWarning: Pandas doesn't allow columns to be created via a new attribute name - see https://pandas.pydata.org/pandas-docs/stable/indexing.html#attribute-access\n",
      "F:\\software\\anaconda\\lib\\site-packages\\ipykernel_launcher.py:60: UserWarning: Pandas doesn't allow columns to be created via a new attribute name - see https://pandas.pydata.org/pandas-docs/stable/indexing.html#attribute-access\n"
     ]
    },
    {
     "name": "stdout",
     "output_type": "stream",
     "text": [
      "Angle-based Outlier Detector ROC:0.9004, precision @ rank n:0.8214,execution time: 0.2124\n",
      "Cluster-based Local Outlier Factor ROC:0.8952, precision @ rank n:0.8036,execution time: 0.1217\n"
     ]
    },
    {
     "name": "stderr",
     "output_type": "stream",
     "text": [
      "F:\\software\\anaconda\\lib\\site-packages\\ipykernel_launcher.py:52: UserWarning: Pandas doesn't allow columns to be created via a new attribute name - see https://pandas.pydata.org/pandas-docs/stable/indexing.html#attribute-access\n",
      "F:\\software\\anaconda\\lib\\site-packages\\ipykernel_launcher.py:56: UserWarning: Pandas doesn't allow columns to be created via a new attribute name - see https://pandas.pydata.org/pandas-docs/stable/indexing.html#attribute-access\n",
      "F:\\software\\anaconda\\lib\\site-packages\\ipykernel_launcher.py:60: UserWarning: Pandas doesn't allow columns to be created via a new attribute name - see https://pandas.pydata.org/pandas-docs/stable/indexing.html#attribute-access\n",
      "F:\\software\\anaconda\\lib\\site-packages\\ipykernel_launcher.py:52: UserWarning: Pandas doesn't allow columns to be created via a new attribute name - see https://pandas.pydata.org/pandas-docs/stable/indexing.html#attribute-access\n",
      "F:\\software\\anaconda\\lib\\site-packages\\ipykernel_launcher.py:56: UserWarning: Pandas doesn't allow columns to be created via a new attribute name - see https://pandas.pydata.org/pandas-docs/stable/indexing.html#attribute-access\n",
      "F:\\software\\anaconda\\lib\\site-packages\\ipykernel_launcher.py:60: UserWarning: Pandas doesn't allow columns to be created via a new attribute name - see https://pandas.pydata.org/pandas-docs/stable/indexing.html#attribute-access\n"
     ]
    },
    {
     "name": "stdout",
     "output_type": "stream",
     "text": [
      "FeatureBagging ROC:0.8933, precision @ rank n:0.75,execution time: 0.2164\n",
      "Histogram-base Outlier Detection ROC:0.5195, precision @ rank n:0.3393,execution time: 0.0209\n"
     ]
    },
    {
     "name": "stderr",
     "output_type": "stream",
     "text": [
      "F:\\software\\anaconda\\lib\\site-packages\\ipykernel_launcher.py:52: UserWarning: Pandas doesn't allow columns to be created via a new attribute name - see https://pandas.pydata.org/pandas-docs/stable/indexing.html#attribute-access\n",
      "F:\\software\\anaconda\\lib\\site-packages\\ipykernel_launcher.py:56: UserWarning: Pandas doesn't allow columns to be created via a new attribute name - see https://pandas.pydata.org/pandas-docs/stable/indexing.html#attribute-access\n",
      "F:\\software\\anaconda\\lib\\site-packages\\ipykernel_launcher.py:60: UserWarning: Pandas doesn't allow columns to be created via a new attribute name - see https://pandas.pydata.org/pandas-docs/stable/indexing.html#attribute-access\n",
      "F:\\software\\anaconda\\lib\\site-packages\\ipykernel_launcher.py:52: UserWarning: Pandas doesn't allow columns to be created via a new attribute name - see https://pandas.pydata.org/pandas-docs/stable/indexing.html#attribute-access\n",
      "F:\\software\\anaconda\\lib\\site-packages\\ipykernel_launcher.py:56: UserWarning: Pandas doesn't allow columns to be created via a new attribute name - see https://pandas.pydata.org/pandas-docs/stable/indexing.html#attribute-access\n",
      "F:\\software\\anaconda\\lib\\site-packages\\ipykernel_launcher.py:60: UserWarning: Pandas doesn't allow columns to be created via a new attribute name - see https://pandas.pydata.org/pandas-docs/stable/indexing.html#attribute-access\n"
     ]
    },
    {
     "name": "stdout",
     "output_type": "stream",
     "text": [
      "Isolation Forest ROC:0.8309, precision @ rank n:0.6607,execution time: 0.8044\n",
      "K Nearest Neighbour ROC:0.9134, precision @ rank n:0.8393,execution time: 0.0429\n",
      "Local Outlier Factor ROC:0.8989, precision @ rank n:0.75,execution time: 0.0169\n",
      "One-Class SVM ROC:0.8372, precision @ rank n:0.7143,execution time: 0.012\n"
     ]
    },
    {
     "name": "stderr",
     "output_type": "stream",
     "text": [
      "F:\\software\\anaconda\\lib\\site-packages\\ipykernel_launcher.py:52: UserWarning: Pandas doesn't allow columns to be created via a new attribute name - see https://pandas.pydata.org/pandas-docs/stable/indexing.html#attribute-access\n",
      "F:\\software\\anaconda\\lib\\site-packages\\ipykernel_launcher.py:56: UserWarning: Pandas doesn't allow columns to be created via a new attribute name - see https://pandas.pydata.org/pandas-docs/stable/indexing.html#attribute-access\n",
      "F:\\software\\anaconda\\lib\\site-packages\\ipykernel_launcher.py:60: UserWarning: Pandas doesn't allow columns to be created via a new attribute name - see https://pandas.pydata.org/pandas-docs/stable/indexing.html#attribute-access\n",
      "F:\\software\\anaconda\\lib\\site-packages\\ipykernel_launcher.py:52: UserWarning: Pandas doesn't allow columns to be created via a new attribute name - see https://pandas.pydata.org/pandas-docs/stable/indexing.html#attribute-access\n",
      "F:\\software\\anaconda\\lib\\site-packages\\ipykernel_launcher.py:56: UserWarning: Pandas doesn't allow columns to be created via a new attribute name - see https://pandas.pydata.org/pandas-docs/stable/indexing.html#attribute-access\n",
      "F:\\software\\anaconda\\lib\\site-packages\\ipykernel_launcher.py:60: UserWarning: Pandas doesn't allow columns to be created via a new attribute name - see https://pandas.pydata.org/pandas-docs/stable/indexing.html#attribute-access\n",
      "F:\\software\\anaconda\\lib\\site-packages\\ipykernel_launcher.py:52: UserWarning: Pandas doesn't allow columns to be created via a new attribute name - see https://pandas.pydata.org/pandas-docs/stable/indexing.html#attribute-access\n",
      "F:\\software\\anaconda\\lib\\site-packages\\ipykernel_launcher.py:56: UserWarning: Pandas doesn't allow columns to be created via a new attribute name - see https://pandas.pydata.org/pandas-docs/stable/indexing.html#attribute-access\n",
      "F:\\software\\anaconda\\lib\\site-packages\\ipykernel_launcher.py:60: UserWarning: Pandas doesn't allow columns to be created via a new attribute name - see https://pandas.pydata.org/pandas-docs/stable/indexing.html#attribute-access\n",
      "F:\\software\\anaconda\\lib\\site-packages\\ipykernel_launcher.py:52: UserWarning: Pandas doesn't allow columns to be created via a new attribute name - see https://pandas.pydata.org/pandas-docs/stable/indexing.html#attribute-access\n",
      "F:\\software\\anaconda\\lib\\site-packages\\ipykernel_launcher.py:56: UserWarning: Pandas doesn't allow columns to be created via a new attribute name - see https://pandas.pydata.org/pandas-docs/stable/indexing.html#attribute-access\n",
      "F:\\software\\anaconda\\lib\\site-packages\\ipykernel_launcher.py:60: UserWarning: Pandas doesn't allow columns to be created via a new attribute name - see https://pandas.pydata.org/pandas-docs/stable/indexing.html#attribute-access\n"
     ]
    },
    {
     "name": "stdout",
     "output_type": "stream",
     "text": [
      "Minimum Covariance Determinant ROC:0.9399, precision @ rank n:0.8571,execution time: 0.1865\n",
      "Principal Component Analysis ROC:0.7971, precision @ rank n:0.5893,execution time: 0.008\n",
      "\n",
      "...Processing letter.mat .....\n"
     ]
    },
    {
     "name": "stderr",
     "output_type": "stream",
     "text": [
      "F:\\software\\anaconda\\lib\\site-packages\\ipykernel_launcher.py:52: UserWarning: Pandas doesn't allow columns to be created via a new attribute name - see https://pandas.pydata.org/pandas-docs/stable/indexing.html#attribute-access\n",
      "F:\\software\\anaconda\\lib\\site-packages\\ipykernel_launcher.py:56: UserWarning: Pandas doesn't allow columns to be created via a new attribute name - see https://pandas.pydata.org/pandas-docs/stable/indexing.html#attribute-access\n",
      "F:\\software\\anaconda\\lib\\site-packages\\ipykernel_launcher.py:60: UserWarning: Pandas doesn't allow columns to be created via a new attribute name - see https://pandas.pydata.org/pandas-docs/stable/indexing.html#attribute-access\n",
      "F:\\software\\anaconda\\lib\\site-packages\\ipykernel_launcher.py:52: UserWarning: Pandas doesn't allow columns to be created via a new attribute name - see https://pandas.pydata.org/pandas-docs/stable/indexing.html#attribute-access\n",
      "F:\\software\\anaconda\\lib\\site-packages\\ipykernel_launcher.py:56: UserWarning: Pandas doesn't allow columns to be created via a new attribute name - see https://pandas.pydata.org/pandas-docs/stable/indexing.html#attribute-access\n",
      "F:\\software\\anaconda\\lib\\site-packages\\ipykernel_launcher.py:60: UserWarning: Pandas doesn't allow columns to be created via a new attribute name - see https://pandas.pydata.org/pandas-docs/stable/indexing.html#attribute-access\n"
     ]
    },
    {
     "name": "stdout",
     "output_type": "stream",
     "text": [
      "Angle-based Outlier Detector ROC:0.8465, precision @ rank n:0.275,execution time: 0.9963\n"
     ]
    },
    {
     "name": "stderr",
     "output_type": "stream",
     "text": [
      "F:\\software\\anaconda\\lib\\site-packages\\ipykernel_launcher.py:52: UserWarning: Pandas doesn't allow columns to be created via a new attribute name - see https://pandas.pydata.org/pandas-docs/stable/indexing.html#attribute-access\n",
      "F:\\software\\anaconda\\lib\\site-packages\\ipykernel_launcher.py:56: UserWarning: Pandas doesn't allow columns to be created via a new attribute name - see https://pandas.pydata.org/pandas-docs/stable/indexing.html#attribute-access\n",
      "F:\\software\\anaconda\\lib\\site-packages\\ipykernel_launcher.py:60: UserWarning: Pandas doesn't allow columns to be created via a new attribute name - see https://pandas.pydata.org/pandas-docs/stable/indexing.html#attribute-access\n"
     ]
    },
    {
     "name": "stdout",
     "output_type": "stream",
     "text": [
      "Cluster-based Local Outlier Factor ROC:0.7423, precision @ rank n:0.175,execution time: 0.376\n"
     ]
    },
    {
     "name": "stderr",
     "output_type": "stream",
     "text": [
      "F:\\software\\anaconda\\lib\\site-packages\\ipykernel_launcher.py:52: UserWarning: Pandas doesn't allow columns to be created via a new attribute name - see https://pandas.pydata.org/pandas-docs/stable/indexing.html#attribute-access\n",
      "F:\\software\\anaconda\\lib\\site-packages\\ipykernel_launcher.py:56: UserWarning: Pandas doesn't allow columns to be created via a new attribute name - see https://pandas.pydata.org/pandas-docs/stable/indexing.html#attribute-access\n",
      "F:\\software\\anaconda\\lib\\site-packages\\ipykernel_launcher.py:60: UserWarning: Pandas doesn't allow columns to be created via a new attribute name - see https://pandas.pydata.org/pandas-docs/stable/indexing.html#attribute-access\n"
     ]
    },
    {
     "name": "stdout",
     "output_type": "stream",
     "text": [
      "FeatureBagging ROC:0.866, precision @ rank n:0.4,execution time: 1.9437\n",
      "Histogram-base Outlier Detection ROC:0.5728, precision @ rank n:0.125,execution time: 0.0409\n"
     ]
    },
    {
     "name": "stderr",
     "output_type": "stream",
     "text": [
      "F:\\software\\anaconda\\lib\\site-packages\\ipykernel_launcher.py:52: UserWarning: Pandas doesn't allow columns to be created via a new attribute name - see https://pandas.pydata.org/pandas-docs/stable/indexing.html#attribute-access\n",
      "F:\\software\\anaconda\\lib\\site-packages\\ipykernel_launcher.py:56: UserWarning: Pandas doesn't allow columns to be created via a new attribute name - see https://pandas.pydata.org/pandas-docs/stable/indexing.html#attribute-access\n",
      "F:\\software\\anaconda\\lib\\site-packages\\ipykernel_launcher.py:60: UserWarning: Pandas doesn't allow columns to be created via a new attribute name - see https://pandas.pydata.org/pandas-docs/stable/indexing.html#attribute-access\n",
      "F:\\software\\anaconda\\lib\\site-packages\\ipykernel_launcher.py:52: UserWarning: Pandas doesn't allow columns to be created via a new attribute name - see https://pandas.pydata.org/pandas-docs/stable/indexing.html#attribute-access\n",
      "F:\\software\\anaconda\\lib\\site-packages\\ipykernel_launcher.py:56: UserWarning: Pandas doesn't allow columns to be created via a new attribute name - see https://pandas.pydata.org/pandas-docs/stable/indexing.html#attribute-access\n",
      "F:\\software\\anaconda\\lib\\site-packages\\ipykernel_launcher.py:60: UserWarning: Pandas doesn't allow columns to be created via a new attribute name - see https://pandas.pydata.org/pandas-docs/stable/indexing.html#attribute-access\n"
     ]
    },
    {
     "name": "stdout",
     "output_type": "stream",
     "text": [
      "Isolation Forest ROC:0.5778, precision @ rank n:0.05,execution time: 1.0305\n"
     ]
    },
    {
     "name": "stderr",
     "output_type": "stream",
     "text": [
      "F:\\software\\anaconda\\lib\\site-packages\\ipykernel_launcher.py:52: UserWarning: Pandas doesn't allow columns to be created via a new attribute name - see https://pandas.pydata.org/pandas-docs/stable/indexing.html#attribute-access\n",
      "F:\\software\\anaconda\\lib\\site-packages\\ipykernel_launcher.py:56: UserWarning: Pandas doesn't allow columns to be created via a new attribute name - see https://pandas.pydata.org/pandas-docs/stable/indexing.html#attribute-access\n",
      "F:\\software\\anaconda\\lib\\site-packages\\ipykernel_launcher.py:60: UserWarning: Pandas doesn't allow columns to be created via a new attribute name - see https://pandas.pydata.org/pandas-docs/stable/indexing.html#attribute-access\n"
     ]
    },
    {
     "name": "stdout",
     "output_type": "stream",
     "text": [
      "K Nearest Neighbour ROC:0.845, precision @ rank n:0.3,execution time: 0.3701\n"
     ]
    },
    {
     "name": "stderr",
     "output_type": "stream",
     "text": [
      "F:\\software\\anaconda\\lib\\site-packages\\ipykernel_launcher.py:52: UserWarning: Pandas doesn't allow columns to be created via a new attribute name - see https://pandas.pydata.org/pandas-docs/stable/indexing.html#attribute-access\n",
      "F:\\software\\anaconda\\lib\\site-packages\\ipykernel_launcher.py:56: UserWarning: Pandas doesn't allow columns to be created via a new attribute name - see https://pandas.pydata.org/pandas-docs/stable/indexing.html#attribute-access\n",
      "F:\\software\\anaconda\\lib\\site-packages\\ipykernel_launcher.py:60: UserWarning: Pandas doesn't allow columns to be created via a new attribute name - see https://pandas.pydata.org/pandas-docs/stable/indexing.html#attribute-access\n"
     ]
    },
    {
     "name": "stdout",
     "output_type": "stream",
     "text": [
      "Local Outlier Factor ROC:0.8409, precision @ rank n:0.325,execution time: 0.2296\n"
     ]
    },
    {
     "name": "stderr",
     "output_type": "stream",
     "text": [
      "F:\\software\\anaconda\\lib\\site-packages\\ipykernel_launcher.py:52: UserWarning: Pandas doesn't allow columns to be created via a new attribute name - see https://pandas.pydata.org/pandas-docs/stable/indexing.html#attribute-access\n",
      "F:\\software\\anaconda\\lib\\site-packages\\ipykernel_launcher.py:56: UserWarning: Pandas doesn't allow columns to be created via a new attribute name - see https://pandas.pydata.org/pandas-docs/stable/indexing.html#attribute-access\n",
      "F:\\software\\anaconda\\lib\\site-packages\\ipykernel_launcher.py:60: UserWarning: Pandas doesn't allow columns to be created via a new attribute name - see https://pandas.pydata.org/pandas-docs/stable/indexing.html#attribute-access\n"
     ]
    },
    {
     "name": "stdout",
     "output_type": "stream",
     "text": [
      "One-Class SVM ROC:0.5744, precision @ rank n:0.1,execution time: 0.1775\n"
     ]
    },
    {
     "name": "stderr",
     "output_type": "stream",
     "text": [
      "F:\\software\\anaconda\\lib\\site-packages\\ipykernel_launcher.py:52: UserWarning: Pandas doesn't allow columns to be created via a new attribute name - see https://pandas.pydata.org/pandas-docs/stable/indexing.html#attribute-access\n",
      "F:\\software\\anaconda\\lib\\site-packages\\ipykernel_launcher.py:56: UserWarning: Pandas doesn't allow columns to be created via a new attribute name - see https://pandas.pydata.org/pandas-docs/stable/indexing.html#attribute-access\n",
      "F:\\software\\anaconda\\lib\\site-packages\\ipykernel_launcher.py:60: UserWarning: Pandas doesn't allow columns to be created via a new attribute name - see https://pandas.pydata.org/pandas-docs/stable/indexing.html#attribute-access\n"
     ]
    },
    {
     "name": "stdout",
     "output_type": "stream",
     "text": [
      "Minimum Covariance Determinant ROC:0.7499, precision @ rank n:0.075,execution time: 2.7689\n",
      "Principal Component Analysis ROC:0.48, precision @ rank n:0.05,execution time: 0.013\n",
      "\n",
      "...Processing lympho.mat .....\n",
      "Angle-based Outlier Detector ROC:0.9382, precision @ rank n:0.4,execution time: 0.0908"
     ]
    },
    {
     "name": "stderr",
     "output_type": "stream",
     "text": [
      "F:\\software\\anaconda\\lib\\site-packages\\ipykernel_launcher.py:52: UserWarning: Pandas doesn't allow columns to be created via a new attribute name - see https://pandas.pydata.org/pandas-docs/stable/indexing.html#attribute-access\n",
      "F:\\software\\anaconda\\lib\\site-packages\\ipykernel_launcher.py:56: UserWarning: Pandas doesn't allow columns to be created via a new attribute name - see https://pandas.pydata.org/pandas-docs/stable/indexing.html#attribute-access\n",
      "F:\\software\\anaconda\\lib\\site-packages\\ipykernel_launcher.py:60: UserWarning: Pandas doesn't allow columns to be created via a new attribute name - see https://pandas.pydata.org/pandas-docs/stable/indexing.html#attribute-access\n",
      "F:\\software\\anaconda\\lib\\site-packages\\ipykernel_launcher.py:52: UserWarning: Pandas doesn't allow columns to be created via a new attribute name - see https://pandas.pydata.org/pandas-docs/stable/indexing.html#attribute-access\n",
      "F:\\software\\anaconda\\lib\\site-packages\\ipykernel_launcher.py:56: UserWarning: Pandas doesn't allow columns to be created via a new attribute name - see https://pandas.pydata.org/pandas-docs/stable/indexing.html#attribute-access\n",
      "F:\\software\\anaconda\\lib\\site-packages\\ipykernel_launcher.py:60: UserWarning: Pandas doesn't allow columns to be created via a new attribute name - see https://pandas.pydata.org/pandas-docs/stable/indexing.html#attribute-access\n"
     ]
    },
    {
     "name": "stdout",
     "output_type": "stream",
     "text": [
      "\n",
      "Cluster-based Local Outlier Factor ROC:0.9709, precision @ rank n:0.6,execution time: 0.1127\n"
     ]
    },
    {
     "name": "stderr",
     "output_type": "stream",
     "text": [
      "F:\\software\\anaconda\\lib\\site-packages\\ipykernel_launcher.py:52: UserWarning: Pandas doesn't allow columns to be created via a new attribute name - see https://pandas.pydata.org/pandas-docs/stable/indexing.html#attribute-access\n",
      "F:\\software\\anaconda\\lib\\site-packages\\ipykernel_launcher.py:56: UserWarning: Pandas doesn't allow columns to be created via a new attribute name - see https://pandas.pydata.org/pandas-docs/stable/indexing.html#attribute-access\n",
      "F:\\software\\anaconda\\lib\\site-packages\\ipykernel_launcher.py:60: UserWarning: Pandas doesn't allow columns to be created via a new attribute name - see https://pandas.pydata.org/pandas-docs/stable/indexing.html#attribute-access\n",
      "F:\\software\\anaconda\\lib\\site-packages\\ipykernel_launcher.py:52: UserWarning: Pandas doesn't allow columns to be created via a new attribute name - see https://pandas.pydata.org/pandas-docs/stable/indexing.html#attribute-access\n",
      "F:\\software\\anaconda\\lib\\site-packages\\ipykernel_launcher.py:56: UserWarning: Pandas doesn't allow columns to be created via a new attribute name - see https://pandas.pydata.org/pandas-docs/stable/indexing.html#attribute-access\n",
      "F:\\software\\anaconda\\lib\\site-packages\\ipykernel_launcher.py:60: UserWarning: Pandas doesn't allow columns to be created via a new attribute name - see https://pandas.pydata.org/pandas-docs/stable/indexing.html#attribute-access\n"
     ]
    },
    {
     "name": "stdout",
     "output_type": "stream",
     "text": [
      "FeatureBagging ROC:0.9673, precision @ rank n:0.6,execution time: 0.0818\n",
      "Histogram-base Outlier Detection ROC:0.9964, precision @ rank n:0.8,execution time: 0.012\n"
     ]
    },
    {
     "name": "stderr",
     "output_type": "stream",
     "text": [
      "F:\\software\\anaconda\\lib\\site-packages\\ipykernel_launcher.py:52: UserWarning: Pandas doesn't allow columns to be created via a new attribute name - see https://pandas.pydata.org/pandas-docs/stable/indexing.html#attribute-access\n",
      "F:\\software\\anaconda\\lib\\site-packages\\ipykernel_launcher.py:56: UserWarning: Pandas doesn't allow columns to be created via a new attribute name - see https://pandas.pydata.org/pandas-docs/stable/indexing.html#attribute-access\n",
      "F:\\software\\anaconda\\lib\\site-packages\\ipykernel_launcher.py:60: UserWarning: Pandas doesn't allow columns to be created via a new attribute name - see https://pandas.pydata.org/pandas-docs/stable/indexing.html#attribute-access\n",
      "F:\\software\\anaconda\\lib\\site-packages\\ipykernel_launcher.py:52: UserWarning: Pandas doesn't allow columns to be created via a new attribute name - see https://pandas.pydata.org/pandas-docs/stable/indexing.html#attribute-access\n",
      "F:\\software\\anaconda\\lib\\site-packages\\ipykernel_launcher.py:56: UserWarning: Pandas doesn't allow columns to be created via a new attribute name - see https://pandas.pydata.org/pandas-docs/stable/indexing.html#attribute-access\n",
      "F:\\software\\anaconda\\lib\\site-packages\\ipykernel_launcher.py:60: UserWarning: Pandas doesn't allow columns to be created via a new attribute name - see https://pandas.pydata.org/pandas-docs/stable/indexing.html#attribute-access\n"
     ]
    },
    {
     "name": "stdout",
     "output_type": "stream",
     "text": [
      "Isolation Forest ROC:0.9855, precision @ rank n:0.6,execution time: 0.8051\n",
      "K Nearest Neighbour ROC:0.9636, precision @ rank n:0.6,execution time: 0.0169\n",
      "Local Outlier Factor ROC:0.9636, precision @ rank n:0.6,execution time: 0.006\n",
      "One-Class SVM ROC:0.9636, precision @ rank n:0.6,execution time: 0.003\n"
     ]
    },
    {
     "name": "stderr",
     "output_type": "stream",
     "text": [
      "F:\\software\\anaconda\\lib\\site-packages\\ipykernel_launcher.py:52: UserWarning: Pandas doesn't allow columns to be created via a new attribute name - see https://pandas.pydata.org/pandas-docs/stable/indexing.html#attribute-access\n",
      "F:\\software\\anaconda\\lib\\site-packages\\ipykernel_launcher.py:56: UserWarning: Pandas doesn't allow columns to be created via a new attribute name - see https://pandas.pydata.org/pandas-docs/stable/indexing.html#attribute-access\n",
      "F:\\software\\anaconda\\lib\\site-packages\\ipykernel_launcher.py:60: UserWarning: Pandas doesn't allow columns to be created via a new attribute name - see https://pandas.pydata.org/pandas-docs/stable/indexing.html#attribute-access\n",
      "F:\\software\\anaconda\\lib\\site-packages\\ipykernel_launcher.py:52: UserWarning: Pandas doesn't allow columns to be created via a new attribute name - see https://pandas.pydata.org/pandas-docs/stable/indexing.html#attribute-access\n",
      "F:\\software\\anaconda\\lib\\site-packages\\ipykernel_launcher.py:56: UserWarning: Pandas doesn't allow columns to be created via a new attribute name - see https://pandas.pydata.org/pandas-docs/stable/indexing.html#attribute-access\n",
      "F:\\software\\anaconda\\lib\\site-packages\\ipykernel_launcher.py:60: UserWarning: Pandas doesn't allow columns to be created via a new attribute name - see https://pandas.pydata.org/pandas-docs/stable/indexing.html#attribute-access\n",
      "F:\\software\\anaconda\\lib\\site-packages\\ipykernel_launcher.py:52: UserWarning: Pandas doesn't allow columns to be created via a new attribute name - see https://pandas.pydata.org/pandas-docs/stable/indexing.html#attribute-access\n",
      "F:\\software\\anaconda\\lib\\site-packages\\ipykernel_launcher.py:56: UserWarning: Pandas doesn't allow columns to be created via a new attribute name - see https://pandas.pydata.org/pandas-docs/stable/indexing.html#attribute-access\n",
      "F:\\software\\anaconda\\lib\\site-packages\\ipykernel_launcher.py:60: UserWarning: Pandas doesn't allow columns to be created via a new attribute name - see https://pandas.pydata.org/pandas-docs/stable/indexing.html#attribute-access\n",
      "F:\\software\\anaconda\\lib\\site-packages\\ipykernel_launcher.py:52: UserWarning: Pandas doesn't allow columns to be created via a new attribute name - see https://pandas.pydata.org/pandas-docs/stable/indexing.html#attribute-access\n",
      "F:\\software\\anaconda\\lib\\site-packages\\ipykernel_launcher.py:56: UserWarning: Pandas doesn't allow columns to be created via a new attribute name - see https://pandas.pydata.org/pandas-docs/stable/indexing.html#attribute-access\n",
      "F:\\software\\anaconda\\lib\\site-packages\\ipykernel_launcher.py:60: UserWarning: Pandas doesn't allow columns to be created via a new attribute name - see https://pandas.pydata.org/pandas-docs/stable/indexing.html#attribute-access\n",
      "F:\\software\\anaconda\\lib\\site-packages\\sklearn\\covariance\\_robust_covariance.py:170: RuntimeWarning: Determinant has increased; this should not happen: log(det) > log(previous_det) (-303.881944356529402 > -525.830836350540153). You may want to try with a higher value of support_fraction (current value: 0.614).\n",
      "  RuntimeWarning)\n",
      "F:\\software\\anaconda\\lib\\site-packages\\sklearn\\covariance\\_robust_covariance.py:170: RuntimeWarning: Determinant has increased; this should not happen: log(det) > log(previous_det) (-304.021763033307082 > -523.143378896311901). You may want to try with a higher value of support_fraction (current value: 0.614).\n",
      "  RuntimeWarning)\n",
      "F:\\software\\anaconda\\lib\\site-packages\\sklearn\\covariance\\_robust_covariance.py:170: RuntimeWarning: Determinant has increased; this should not happen: log(det) > log(previous_det) (-338.921775030610604 > -381.672782741425522). You may want to try with a higher value of support_fraction (current value: 0.614).\n",
      "  RuntimeWarning)\n",
      "F:\\software\\anaconda\\lib\\site-packages\\ipykernel_launcher.py:52: UserWarning: Pandas doesn't allow columns to be created via a new attribute name - see https://pandas.pydata.org/pandas-docs/stable/indexing.html#attribute-access\n",
      "F:\\software\\anaconda\\lib\\site-packages\\ipykernel_launcher.py:56: UserWarning: Pandas doesn't allow columns to be created via a new attribute name - see https://pandas.pydata.org/pandas-docs/stable/indexing.html#attribute-access\n",
      "F:\\software\\anaconda\\lib\\site-packages\\ipykernel_launcher.py:60: UserWarning: Pandas doesn't allow columns to be created via a new attribute name - see https://pandas.pydata.org/pandas-docs/stable/indexing.html#attribute-access\n",
      "F:\\software\\anaconda\\lib\\site-packages\\ipykernel_launcher.py:52: UserWarning: Pandas doesn't allow columns to be created via a new attribute name - see https://pandas.pydata.org/pandas-docs/stable/indexing.html#attribute-access\n",
      "F:\\software\\anaconda\\lib\\site-packages\\ipykernel_launcher.py:56: UserWarning: Pandas doesn't allow columns to be created via a new attribute name - see https://pandas.pydata.org/pandas-docs/stable/indexing.html#attribute-access\n",
      "F:\\software\\anaconda\\lib\\site-packages\\ipykernel_launcher.py:60: UserWarning: Pandas doesn't allow columns to be created via a new attribute name - see https://pandas.pydata.org/pandas-docs/stable/indexing.html#attribute-access\n"
     ]
    },
    {
     "name": "stdout",
     "output_type": "stream",
     "text": [
      "Minimum Covariance Determinant ROC:0.9164, precision @ rank n:0.6,execution time: 0.09\n",
      "Principal Component Analysis ROC:0.9818, precision @ rank n:0.8,execution time: 0.0049\n",
      "\n",
      "...Processing mnist.mat .....\n",
      "Angle-based Outlier Detector ROC:0.7813, precision @ rank n:0.3562,execution time: 19.5024\n"
     ]
    },
    {
     "name": "stderr",
     "output_type": "stream",
     "text": [
      "F:\\software\\anaconda\\lib\\site-packages\\ipykernel_launcher.py:52: UserWarning: Pandas doesn't allow columns to be created via a new attribute name - see https://pandas.pydata.org/pandas-docs/stable/indexing.html#attribute-access\n",
      "F:\\software\\anaconda\\lib\\site-packages\\ipykernel_launcher.py:56: UserWarning: Pandas doesn't allow columns to be created via a new attribute name - see https://pandas.pydata.org/pandas-docs/stable/indexing.html#attribute-access\n",
      "F:\\software\\anaconda\\lib\\site-packages\\ipykernel_launcher.py:60: UserWarning: Pandas doesn't allow columns to be created via a new attribute name - see https://pandas.pydata.org/pandas-docs/stable/indexing.html#attribute-access\n"
     ]
    },
    {
     "name": "stdout",
     "output_type": "stream",
     "text": [
      "Cluster-based Local Outlier Factor ROC:0.8447, precision @ rank n:0.4007,execution time: 2.5949\n"
     ]
    },
    {
     "name": "stderr",
     "output_type": "stream",
     "text": [
      "F:\\software\\anaconda\\lib\\site-packages\\ipykernel_launcher.py:52: UserWarning: Pandas doesn't allow columns to be created via a new attribute name - see https://pandas.pydata.org/pandas-docs/stable/indexing.html#attribute-access\n",
      "F:\\software\\anaconda\\lib\\site-packages\\ipykernel_launcher.py:56: UserWarning: Pandas doesn't allow columns to be created via a new attribute name - see https://pandas.pydata.org/pandas-docs/stable/indexing.html#attribute-access\n",
      "F:\\software\\anaconda\\lib\\site-packages\\ipykernel_launcher.py:60: UserWarning: Pandas doesn't allow columns to be created via a new attribute name - see https://pandas.pydata.org/pandas-docs/stable/indexing.html#attribute-access\n"
     ]
    },
    {
     "name": "stdout",
     "output_type": "stream",
     "text": [
      "FeatureBagging ROC:0.7259, precision @ rank n:0.3664,execution time: 122.0182\n",
      "Histogram-base Outlier Detection ROC:0.5675, precision @ rank n:0.1199,execution time: 0.1326\n"
     ]
    },
    {
     "name": "stderr",
     "output_type": "stream",
     "text": [
      "F:\\software\\anaconda\\lib\\site-packages\\ipykernel_launcher.py:52: UserWarning: Pandas doesn't allow columns to be created via a new attribute name - see https://pandas.pydata.org/pandas-docs/stable/indexing.html#attribute-access\n",
      "F:\\software\\anaconda\\lib\\site-packages\\ipykernel_launcher.py:56: UserWarning: Pandas doesn't allow columns to be created via a new attribute name - see https://pandas.pydata.org/pandas-docs/stable/indexing.html#attribute-access\n",
      "F:\\software\\anaconda\\lib\\site-packages\\ipykernel_launcher.py:60: UserWarning: Pandas doesn't allow columns to be created via a new attribute name - see https://pandas.pydata.org/pandas-docs/stable/indexing.html#attribute-access\n",
      "F:\\software\\anaconda\\lib\\site-packages\\ipykernel_launcher.py:52: UserWarning: Pandas doesn't allow columns to be created via a new attribute name - see https://pandas.pydata.org/pandas-docs/stable/indexing.html#attribute-access\n",
      "F:\\software\\anaconda\\lib\\site-packages\\ipykernel_launcher.py:56: UserWarning: Pandas doesn't allow columns to be created via a new attribute name - see https://pandas.pydata.org/pandas-docs/stable/indexing.html#attribute-access\n",
      "F:\\software\\anaconda\\lib\\site-packages\\ipykernel_launcher.py:60: UserWarning: Pandas doesn't allow columns to be created via a new attribute name - see https://pandas.pydata.org/pandas-docs/stable/indexing.html#attribute-access\n"
     ]
    },
    {
     "name": "stdout",
     "output_type": "stream",
     "text": [
      "Isolation Forest ROC:0.7801, precision @ rank n:0.2979,execution time: 4.9292\n"
     ]
    },
    {
     "name": "stderr",
     "output_type": "stream",
     "text": [
      "F:\\software\\anaconda\\lib\\site-packages\\ipykernel_launcher.py:52: UserWarning: Pandas doesn't allow columns to be created via a new attribute name - see https://pandas.pydata.org/pandas-docs/stable/indexing.html#attribute-access\n",
      "F:\\software\\anaconda\\lib\\site-packages\\ipykernel_launcher.py:56: UserWarning: Pandas doesn't allow columns to be created via a new attribute name - see https://pandas.pydata.org/pandas-docs/stable/indexing.html#attribute-access\n",
      "F:\\software\\anaconda\\lib\\site-packages\\ipykernel_launcher.py:60: UserWarning: Pandas doesn't allow columns to be created via a new attribute name - see https://pandas.pydata.org/pandas-docs/stable/indexing.html#attribute-access\n"
     ]
    },
    {
     "name": "stdout",
     "output_type": "stream",
     "text": [
      "K Nearest Neighbour ROC:0.8409, precision @ rank n:0.4144,execution time: 15.9507\n"
     ]
    },
    {
     "name": "stderr",
     "output_type": "stream",
     "text": [
      "F:\\software\\anaconda\\lib\\site-packages\\ipykernel_launcher.py:52: UserWarning: Pandas doesn't allow columns to be created via a new attribute name - see https://pandas.pydata.org/pandas-docs/stable/indexing.html#attribute-access\n",
      "F:\\software\\anaconda\\lib\\site-packages\\ipykernel_launcher.py:56: UserWarning: Pandas doesn't allow columns to be created via a new attribute name - see https://pandas.pydata.org/pandas-docs/stable/indexing.html#attribute-access\n",
      "F:\\software\\anaconda\\lib\\site-packages\\ipykernel_launcher.py:60: UserWarning: Pandas doesn't allow columns to be created via a new attribute name - see https://pandas.pydata.org/pandas-docs/stable/indexing.html#attribute-access\n"
     ]
    },
    {
     "name": "stdout",
     "output_type": "stream",
     "text": [
      "Local Outlier Factor ROC:0.7085, precision @ rank n:0.339,execution time: 15.3541\n"
     ]
    },
    {
     "name": "stderr",
     "output_type": "stream",
     "text": [
      "F:\\software\\anaconda\\lib\\site-packages\\ipykernel_launcher.py:52: UserWarning: Pandas doesn't allow columns to be created via a new attribute name - see https://pandas.pydata.org/pandas-docs/stable/indexing.html#attribute-access\n",
      "F:\\software\\anaconda\\lib\\site-packages\\ipykernel_launcher.py:56: UserWarning: Pandas doesn't allow columns to be created via a new attribute name - see https://pandas.pydata.org/pandas-docs/stable/indexing.html#attribute-access\n",
      "F:\\software\\anaconda\\lib\\site-packages\\ipykernel_launcher.py:60: UserWarning: Pandas doesn't allow columns to be created via a new attribute name - see https://pandas.pydata.org/pandas-docs/stable/indexing.html#attribute-access\n"
     ]
    },
    {
     "name": "stdout",
     "output_type": "stream",
     "text": [
      "One-Class SVM ROC:0.8417, precision @ rank n:0.3801,execution time: 11.3191\n"
     ]
    },
    {
     "name": "stderr",
     "output_type": "stream",
     "text": [
      "F:\\software\\anaconda\\lib\\site-packages\\ipykernel_launcher.py:52: UserWarning: Pandas doesn't allow columns to be created via a new attribute name - see https://pandas.pydata.org/pandas-docs/stable/indexing.html#attribute-access\n",
      "F:\\software\\anaconda\\lib\\site-packages\\ipykernel_launcher.py:56: UserWarning: Pandas doesn't allow columns to be created via a new attribute name - see https://pandas.pydata.org/pandas-docs/stable/indexing.html#attribute-access\n",
      "F:\\software\\anaconda\\lib\\site-packages\\ipykernel_launcher.py:60: UserWarning: Pandas doesn't allow columns to be created via a new attribute name - see https://pandas.pydata.org/pandas-docs/stable/indexing.html#attribute-access\n",
      "F:\\software\\anaconda\\lib\\site-packages\\sklearn\\covariance\\_robust_covariance.py:644: UserWarning: The covariance matrix associated to your dataset is not full rank\n",
      "  warnings.warn(\"The covariance matrix associated to your dataset \"\n"
     ]
    },
    {
     "name": "stdout",
     "output_type": "stream",
     "text": [
      "Minimum Covariance Determinant ROC:0.863, precision @ rank n:0.3973,execution time: 6.9126\n"
     ]
    },
    {
     "name": "stderr",
     "output_type": "stream",
     "text": [
      "F:\\software\\anaconda\\lib\\site-packages\\ipykernel_launcher.py:52: UserWarning: Pandas doesn't allow columns to be created via a new attribute name - see https://pandas.pydata.org/pandas-docs/stable/indexing.html#attribute-access\n",
      "F:\\software\\anaconda\\lib\\site-packages\\ipykernel_launcher.py:56: UserWarning: Pandas doesn't allow columns to be created via a new attribute name - see https://pandas.pydata.org/pandas-docs/stable/indexing.html#attribute-access\n",
      "F:\\software\\anaconda\\lib\\site-packages\\ipykernel_launcher.py:60: UserWarning: Pandas doesn't allow columns to be created via a new attribute name - see https://pandas.pydata.org/pandas-docs/stable/indexing.html#attribute-access\n"
     ]
    },
    {
     "name": "stdout",
     "output_type": "stream",
     "text": [
      "Principal Component Analysis ROC:0.8396, precision @ rank n:0.3767,execution time: 0.377\n",
      "\n",
      "...Processing musk.mat .....\n"
     ]
    },
    {
     "name": "stderr",
     "output_type": "stream",
     "text": [
      "F:\\software\\anaconda\\lib\\site-packages\\ipykernel_launcher.py:52: UserWarning: Pandas doesn't allow columns to be created via a new attribute name - see https://pandas.pydata.org/pandas-docs/stable/indexing.html#attribute-access\n",
      "F:\\software\\anaconda\\lib\\site-packages\\ipykernel_launcher.py:56: UserWarning: Pandas doesn't allow columns to be created via a new attribute name - see https://pandas.pydata.org/pandas-docs/stable/indexing.html#attribute-access\n",
      "F:\\software\\anaconda\\lib\\site-packages\\ipykernel_launcher.py:60: UserWarning: Pandas doesn't allow columns to be created via a new attribute name - see https://pandas.pydata.org/pandas-docs/stable/indexing.html#attribute-access\n"
     ]
    },
    {
     "name": "stdout",
     "output_type": "stream",
     "text": [
      "Angle-based Outlier Detector ROC:0.0809, precision @ rank n:0.0333,execution time: 5.6725\n"
     ]
    },
    {
     "name": "stderr",
     "output_type": "stream",
     "text": [
      "F:\\software\\anaconda\\lib\\site-packages\\ipykernel_launcher.py:52: UserWarning: Pandas doesn't allow columns to be created via a new attribute name - see https://pandas.pydata.org/pandas-docs/stable/indexing.html#attribute-access\n",
      "F:\\software\\anaconda\\lib\\site-packages\\ipykernel_launcher.py:56: UserWarning: Pandas doesn't allow columns to be created via a new attribute name - see https://pandas.pydata.org/pandas-docs/stable/indexing.html#attribute-access\n",
      "F:\\software\\anaconda\\lib\\site-packages\\ipykernel_launcher.py:60: UserWarning: Pandas doesn't allow columns to be created via a new attribute name - see https://pandas.pydata.org/pandas-docs/stable/indexing.html#attribute-access\n"
     ]
    },
    {
     "name": "stdout",
     "output_type": "stream",
     "text": [
      "Cluster-based Local Outlier Factor ROC:1.0, precision @ rank n:1.0,execution time: 0.9764\n"
     ]
    },
    {
     "name": "stderr",
     "output_type": "stream",
     "text": [
      "F:\\software\\anaconda\\lib\\site-packages\\ipykernel_launcher.py:52: UserWarning: Pandas doesn't allow columns to be created via a new attribute name - see https://pandas.pydata.org/pandas-docs/stable/indexing.html#attribute-access\n",
      "F:\\software\\anaconda\\lib\\site-packages\\ipykernel_launcher.py:56: UserWarning: Pandas doesn't allow columns to be created via a new attribute name - see https://pandas.pydata.org/pandas-docs/stable/indexing.html#attribute-access\n",
      "F:\\software\\anaconda\\lib\\site-packages\\ipykernel_launcher.py:60: UserWarning: Pandas doesn't allow columns to be created via a new attribute name - see https://pandas.pydata.org/pandas-docs/stable/indexing.html#attribute-access\n"
     ]
    },
    {
     "name": "stdout",
     "output_type": "stream",
     "text": [
      "FeatureBagging ROC:0.5228, precision @ rank n:0.1667,execution time: 34.5229\n",
      "Histogram-base Outlier Detection ROC:0.9999, precision @ rank n:0.9667,execution time: 0.1507\n"
     ]
    },
    {
     "name": "stderr",
     "output_type": "stream",
     "text": [
      "F:\\software\\anaconda\\lib\\site-packages\\ipykernel_launcher.py:52: UserWarning: Pandas doesn't allow columns to be created via a new attribute name - see https://pandas.pydata.org/pandas-docs/stable/indexing.html#attribute-access\n",
      "F:\\software\\anaconda\\lib\\site-packages\\ipykernel_launcher.py:56: UserWarning: Pandas doesn't allow columns to be created via a new attribute name - see https://pandas.pydata.org/pandas-docs/stable/indexing.html#attribute-access\n",
      "F:\\software\\anaconda\\lib\\site-packages\\ipykernel_launcher.py:60: UserWarning: Pandas doesn't allow columns to be created via a new attribute name - see https://pandas.pydata.org/pandas-docs/stable/indexing.html#attribute-access\n",
      "F:\\software\\anaconda\\lib\\site-packages\\ipykernel_launcher.py:52: UserWarning: Pandas doesn't allow columns to be created via a new attribute name - see https://pandas.pydata.org/pandas-docs/stable/indexing.html#attribute-access\n"
     ]
    }
   ],
   "source": [
    "random_state = np.random.RandomState(42)\n",
    "for mat_file in mat_file_list:\n",
    "    print(\"\\n...Processing\",mat_file,'.....')\n",
    "    mat=loadmat(mat_file)\n",
    "    X=mat['X']  # key \n",
    "    y=mat['y'].ravel() # converting 2d values into 1d\n",
    "    \n",
    "    outliers_fraction=np.count_nonzero(y)/len(y)\n",
    "    outliers_percentage=round(outliers_fraction*100,ndigits=4)\n",
    "    \n",
    "    # Construct Container For Saving Result\n",
    "    \n",
    "    roc_list=[mat_file[:-4],X.shape[0],X.shape[1],outliers_percentage]\n",
    "    prn_list=[mat_file[:-4],X.shape[0],X.shape[1],outliers_percentage]\n",
    "    time_list=[mat_file[:-4],X.shape[0],X.shape[1],outliers_percentage]\n",
    "    \n",
    "# model training and testing (60:40)\n",
    "    X_train, X_test, y_train, y_test= train_test_split(X, y , test_size=0.4, random_state=random_state)\n",
    "    \n",
    "# Standardizing data for processing\n",
    "    X_train_norm, X_test_norm= standardizer(X_train,X_test)\n",
    "    \n",
    "#calling method for anomaly\n",
    "    classifiers={'Angle-based Outlier Detector': ABOD(contamination=outliers_fraction),\n",
    "               'Cluster-based Local Outlier Factor': CBLOF(contamination=outliers_fraction,check_estimator=False,random_state=random_state),\n",
    "                'FeatureBagging':FeatureBagging(contamination=outliers_fraction,random_state=random_state),\n",
    "               'Histogram-base Outlier Detection': HBOS(contamination=outliers_fraction),\n",
    "               'Isolation Forest': IForest(contamination=outliers_fraction,random_state=random_state),\n",
    "               'K Nearest Neighbour': KNN(contamination=outliers_fraction),\n",
    "               'Local Outlier Factor': LOF(contamination=outliers_fraction),\n",
    "                'One-Class SVM':OCSVM(contamination=outliers_fraction),\n",
    "               'Minimum Covariance Determinant':MCD(contamination=outliers_fraction,random_state=random_state),\n",
    "               'Principal Component Analysis': PCA(contamination=outliers_fraction,random_state=random_state)}\n",
    "\n",
    "    for cl_name,cl in classifiers.items():\n",
    "        t0=time()\n",
    "        cl.fit(X_train_norm)\n",
    "        test_scores=cl.decision_function(X_test_norm)\n",
    "        t1=time()\n",
    "        duration=round((t1-t0), ndigits=4)\n",
    "        time_list.append(duration)\n",
    "    \n",
    "        roc=round(roc_auc_score(y_test, test_scores), ndigits=4)\n",
    "        prn=round(precision_n_scores(y_test,test_scores), ndigits=4)\n",
    "    \n",
    "        print('{cl_name} ROC:{roc}, precision @ rank n:{prn},' 'execution time: {duration}'.format(cl_name=cl_name, roc=roc, prn=prn,\n",
    "                                                                                          duration=duration))\n",
    "        roc_list.append(roc)\n",
    "        prn_list.append(prn)\n",
    "    \n",
    "        temp_df=pd.DataFrame(time_list).transpose()\n",
    "        temp_df.column= df_columns\n",
    "        time_df=pd.concat([time_df,temp_df],axis=0)\n",
    "    \n",
    "        temp_df=pd.DataFrame(roc_list).transpose()\n",
    "        temp_df.column= df_columns\n",
    "        roc_df=pd.concat([roc_df,temp_df],axis=0)\n",
    "    \n",
    "        temp_df=pd.DataFrame(prn_list).transpose()\n",
    "        temp_df.column= df_columns\n",
    "        prn_df=pd.concat([prn_df,temp_df],axis=0)"
   ]
  },
  {
   "cell_type": "code",
   "execution_count": null,
   "metadata": {},
   "outputs": [],
   "source": []
  }
 ],
 "metadata": {
  "kernelspec": {
   "display_name": "Python 3",
   "language": "python",
   "name": "python3"
  },
  "language_info": {
   "codemirror_mode": {
    "name": "ipython",
    "version": 3
   },
   "file_extension": ".py",
   "mimetype": "text/x-python",
   "name": "python",
   "nbconvert_exporter": "python",
   "pygments_lexer": "ipython3",
   "version": "3.7.6"
  }
 },
 "nbformat": 4,
 "nbformat_minor": 4
}
