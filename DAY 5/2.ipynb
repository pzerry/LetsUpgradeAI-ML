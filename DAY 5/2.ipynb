{
 "cells": [
  {
   "cell_type": "markdown",
   "metadata": {},
   "source": [
    "# Write a Python program to implement 15 functions of string.\n"
   ]
  },
  {
   "cell_type": "code",
   "execution_count": null,
   "metadata": {},
   "outputs": [],
   "source": [
    "a=\"Welcome To LetsUpgrade\"\n",
    "b=\"MACHIne learnING\"\n",
    "C=\"abc123\"\n",
    "d=\"123456\"\n",
    "\n",
    "print(\"1.Capitalize: \",C.capitalize())\n",
    "print(\"2.Casefold: \",a.casefold())\n",
    "print(\"3.Title: \",b.title())\n",
    "print(\"4.Lower: \",C.lower())\n",
    "print(\"5.Upper: \",b.upper())\n",
    "print(\"6.endswith: \",a.endswith('d'))\n",
    "print(\"7.Slicing: \",b[::-1])\n",
    "print(\"8.isalpha: \",C.isalpha())\n",
    "print(\"9.isdigit: \",d.isdigit())\n",
    "print(\"10.isalnum: \",C.isalnum())\n",
    "print(\"11.zfill: \",C.zfill(10))\n",
    "print(\"12.split: \",b.split(\" \"))\n",
    "print(\"13.count: \",a.count('e'))\n",
    "print(\"14.replace: \",b.replace(\"learnING\",\"LEARNING\"))\n",
    "print(\"15.find: \",C.find(\"1\"))"
   ]
  }
 ],
 "metadata": {
  "kernelspec": {
   "display_name": "Python 3",
   "language": "python",
   "name": "python3"
  },
  "language_info": {
   "codemirror_mode": {
    "name": "ipython",
    "version": 3
   },
   "file_extension": ".py",
   "mimetype": "text/x-python",
   "name": "python",
   "nbconvert_exporter": "python",
   "pygments_lexer": "ipython3",
   "version": "3.7.6"
  }
 },
 "nbformat": 4,
 "nbformat_minor": 4
}
