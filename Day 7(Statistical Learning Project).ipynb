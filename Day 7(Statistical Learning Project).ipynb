{
 "cells": [
  {
   "cell_type": "markdown",
   "metadata": {},
   "source": [
    "# FINAL REPORT ON EMPLOYEE ATTRITION ANALYSIS"
   ]
  },
  {
   "cell_type": "code",
   "execution_count": 125,
   "metadata": {},
   "outputs": [],
   "source": [
    "import pandas as pd\n",
    "import matplotlib.pyplot as mp\n",
    "from scipy.stats import pearsonr\n",
    "from sklearn import preprocessing\n",
    "d1 = pd.read_csv(\"general_data.csv\") \n",
    "Label_encoder = preprocessing.LabelBinarizer()\n",
    "d1[\"Attrition\"]=Label_encoder.fit_transform(d1[\"Attrition\"])\n",
    "d1[\"Gender\"]=Label_encoder.fit_transform(d1[\"Gender\"])\n",
    "d1[\"BusinessTravel\"]=d1[\"BusinessTravel\"].replace(\"Travel_Rarely\",1)\n",
    "d1[\"BusinessTravel\"]=d1[\"BusinessTravel\"].replace(\"Non-Travel\",0)\n",
    "d1[\"BusinessTravel\"]=d1[\"BusinessTravel\"].replace(\"Travel_Frequently\",2)\n",
    "d1[\"Department\"]=d1[\"Department\"].replace(\"Sales\",0)\n",
    "d1[\"Department\"]=d1[\"Department\"].replace(\"Research & Development\",1)\n",
    "d1[\"Department\"]=d1[\"Department\"].replace(\"Human Resources\",2)\n",
    "d1[\"EducationField\"]=d1[\"EducationField\"].replace(\"Life Sciences\",0)\n",
    "d1[\"EducationField\"]=d1[\"EducationField\"].replace(\"Medical\",1)\n",
    "d1[\"EducationField\"]=d1[\"EducationField\"].replace(\"Marketing\",2)\n",
    "d1[\"EducationField\"]=d1[\"EducationField\"].replace(\"Technical Degree\",3)\n",
    "d1[\"EducationField\"]=d1[\"EducationField\"].replace(\"Other\",4)\n",
    "d1[\"EducationField\"]=d1[\"EducationField\"].replace(\"Human Resources\",5)\n",
    "d1[\"MaritalStatus\"]=d1[\"MaritalStatus\"].replace(\"Married\",1)\n",
    "d1[\"MaritalStatus\"]=d1[\"MaritalStatus\"].replace(\"Single\",0)\n",
    "d1[\"MaritalStatus\"]=d1[\"MaritalStatus\"].replace(\"Divorce\",2)\n",
    "d1[\"JobRole\"]=d1[\"JobRole\"].replace(\"Sales Executive\",0)\n",
    "d1[\"JobRole\"]=d1[\"JobRole\"].replace(\"Research Scientist\",1)\n",
    "d1[\"JobRole\"]=d1[\"JobRole\"].replace(\"Laboratory Technician\",2)\n",
    "d1[\"JobRole\"]=d1[\"JobRole\"].replace(\"Manufacturing Director\",3)\n",
    "d1[\"JobRole\"]=d1[\"JobRole\"].replace(\"Healthcare Representative\",4)\n",
    "d1[\"JobRole\"]=d1[\"JobRole\"].replace(\"Manager\",5)\n",
    "d1[\"JobRole\"]=d1[\"JobRole\"].replace(\"Sales Representative\",6)\n",
    "d1[\"JobRole\"]=d1[\"JobRole\"].replace(\"Research Director\",7)\n",
    "d1[\"JobRole\"]=d1[\"JobRole\"].replace(\"Human Resources\",8)\n",
    "d1=d1.dropna()\n",
    "d1=d1.drop_duplicates()\n"
   ]
  },
  {
   "cell_type": "code",
   "execution_count": 100,
   "metadata": {},
   "outputs": [
    {
     "name": "stdout",
     "output_type": "stream",
     "text": [
      "               Age    Attrition   Department  DistanceFromHome    Education  \\\n",
      "count  4382.000000  4382.000000  4382.000000       4382.000000  4382.000000   \n",
      "mean     36.933364     0.160885     0.739160          9.198996     2.912369   \n",
      "std       9.137272     0.367467     0.527461          8.105396     1.024728   \n",
      "min      18.000000     0.000000     0.000000          1.000000     1.000000   \n",
      "25%      30.000000     0.000000     0.000000          2.000000     2.000000   \n",
      "50%      36.000000     0.000000     1.000000          7.000000     3.000000   \n",
      "75%      43.000000     0.000000     1.000000         14.000000     4.000000   \n",
      "max      60.000000     1.000000     2.000000         29.000000     5.000000   \n",
      "\n",
      "       EducationField  EmployeeCount   EmployeeID       Gender     JobLevel  \\\n",
      "count     4382.000000         4382.0  4382.000000  4382.000000  4382.000000   \n",
      "mean         1.115244            1.0  2207.804884     0.599270     2.063898   \n",
      "std          1.287909            0.0  1271.688783     0.490102     1.106115   \n",
      "min          0.000000            1.0     1.000000     0.000000     1.000000   \n",
      "25%          0.000000            1.0  1108.250000     0.000000     1.000000   \n",
      "50%          1.000000            1.0  2208.500000     1.000000     2.000000   \n",
      "75%          2.000000            1.0  3308.750000     1.000000     3.000000   \n",
      "max          5.000000            1.0  4409.000000     1.000000     5.000000   \n",
      "\n",
      "       ...  MonthlyIncome  NumCompaniesWorked  PercentSalaryHike  \\\n",
      "count  ...    4382.000000         4382.000000        4382.000000   \n",
      "mean   ...   65061.702419            2.693291          15.210634   \n",
      "std    ...   47142.310175            2.497832           3.663007   \n",
      "min    ...   10090.000000            0.000000          11.000000   \n",
      "25%    ...   29110.000000            1.000000          12.000000   \n",
      "50%    ...   49190.000000            2.000000          14.000000   \n",
      "75%    ...   83790.000000            4.000000          18.000000   \n",
      "max    ...  199990.000000            9.000000          25.000000   \n",
      "\n",
      "       StandardHours  StockOptionLevel  TotalWorkingYears  \\\n",
      "count         4382.0       4382.000000        4382.000000   \n",
      "mean             8.0          0.794614          11.290278   \n",
      "std              0.0          0.852397           7.785717   \n",
      "min              8.0          0.000000           0.000000   \n",
      "25%              8.0          0.000000           6.000000   \n",
      "50%              8.0          1.000000          10.000000   \n",
      "75%              8.0          1.000000          15.000000   \n",
      "max              8.0          3.000000          40.000000   \n",
      "\n",
      "       TrainingTimesLastYear  YearsAtCompany  YearsSinceLastPromotion  \\\n",
      "count            4382.000000     4382.000000              4382.000000   \n",
      "mean                2.798266        7.010497                 2.191693   \n",
      "std                 1.289402        6.129351                 3.224994   \n",
      "min                 0.000000        0.000000                 0.000000   \n",
      "25%                 2.000000        3.000000                 0.000000   \n",
      "50%                 3.000000        5.000000                 1.000000   \n",
      "75%                 3.000000        9.000000                 3.000000   \n",
      "max                 6.000000       40.000000                15.000000   \n",
      "\n",
      "       YearsWithCurrManager  \n",
      "count           4382.000000  \n",
      "mean               4.126198  \n",
      "std                3.569674  \n",
      "min                0.000000  \n",
      "25%                2.000000  \n",
      "50%                3.000000  \n",
      "75%                7.000000  \n",
      "max               17.000000  \n",
      "\n",
      "[8 rows x 21 columns]\n"
     ]
    }
   ],
   "source": [
    "print(d1.describe())\n"
   ]
  },
  {
   "cell_type": "code",
   "execution_count": null,
   "metadata": {},
   "outputs": [],
   "source": []
  },
  {
   "cell_type": "markdown",
   "metadata": {},
   "source": [
    "# DISTRIBUTION OF SHAPE:"
   ]
  },
  {
   "cell_type": "code",
   "execution_count": 126,
   "metadata": {
    "scrolled": true
   },
   "outputs": [
    {
     "name": "stdout",
     "output_type": "stream",
     "text": [
      "Age                        0.413048\n",
      "DistanceFromHome           0.955517\n",
      "Education                 -0.288977\n",
      "MonthlyIncome              1.367457\n",
      "NumCompaniesWorked         1.029174\n",
      "PercentSalaryHike          0.819510\n",
      "TotalWorkingYears          1.115419\n",
      "TrainingTimesLastYear      0.551818\n",
      "YearsAtCompany             1.764619\n",
      "YearsSinceLastPromotion    1.980992\n",
      "YearsWithCurrManager       0.834277\n",
      "dtype: float64\n"
     ]
    },
    {
     "data": {
      "image/png": "[encoded data removed]",
      "text/plain": [
       "<Figure size 1440x1440 with 25 Axes>"
      ]
     },
     "metadata": {
      "needs_background": "light"
     },
     "output_type": "display_data"
    }
   ],
   "source": [
    "print(d1[['Age','DistanceFromHome','Education','MonthlyIncome',\n",
    "'NumCompaniesWorked', 'PercentSalaryHike','TotalWorkingYears', 'TrainingTimesLastYear',\n",
    "'YearsAtCompany','YearsSinceLastPromotion', 'YearsWithCurrManager']].skew())\n",
    "d1.hist(figsize=(20,20))\n",
    "mp.show()"
   ]
  },
  {
   "cell_type": "markdown",
   "metadata": {},
   "source": [
    "# The inference of the above analysis are as follows:\n",
    "Age, Attrition, DistanceFromHome, JobLevel, MonthlyIncome, NumCompaniesWorked, PercentSalaryHike, TotalWorkingYears, TrainingTimesLastYear, YearsAtCompany, YearsSinceLastPromotion, YearsWithCurrManager all have positive value hence they are POSITIVE SKEWED i.e. mean > median\n",
    "\n",
    "Education and Gender having negative value, hence they are NEGATIVESKEW i.e. median > mean"
   ]
  },
  {
   "cell_type": "code",
   "execution_count": 102,
   "metadata": {},
   "outputs": [
    {
     "name": "stdout",
     "output_type": "stream",
     "text": [
      "Age                       -0.409517\n",
      "DistanceFromHome          -0.230691\n",
      "Education                 -0.565008\n",
      "MonthlyIncome              0.990836\n",
      "NumCompaniesWorked         0.014307\n",
      "PercentSalaryHike         -0.306951\n",
      "TotalWorkingYears          0.909316\n",
      "TrainingTimesLastYear      0.494215\n",
      "YearsAtCompany             3.930726\n",
      "YearsSinceLastPromotion    3.592162\n",
      "YearsWithCurrManager       0.170703\n",
      "dtype: float64\n"
     ]
    }
   ],
   "source": [
    "print(d1[['Age','DistanceFromHome','Education','MonthlyIncome',\n",
    "'NumCompaniesWorked', 'PercentSalaryHike','TotalWorkingYears', 'TrainingTimesLastYear',\n",
    "'YearsAtCompany','YearsSinceLastPromotion', 'YearsWithCurrManager']].kurt())\n"
   ]
  },
  {
   "cell_type": "markdown",
   "metadata": {},
   "source": [
    "# Inference for above analysis:\n",
    "Age, DistanceFromHome, PercentSalaryHike having negative values that means they are PLATYKURTIC\n",
    "\n",
    "Attrition, JobLevel, MonthlyIncome, StockOptionLevel, YearsWithCurrManager, YearsSinceLastPromotion, YearsAtCompany, TrainingTimesLastYear, TotalWorkingYears all are Leptokurtic as having positive values\n",
    "\n",
    "While, StandardHours, EmployeeCount are Mesokurtic as having value 0\n",
    "\n"
   ]
  },
  {
   "cell_type": "markdown",
   "metadata": {},
   "source": [
    "# OUTLIERS"
   ]
  },
  {
   "cell_type": "code",
   "execution_count": 49,
   "metadata": {},
   "outputs": [
    {
     "name": "stdout",
     "output_type": "stream",
     "text": [
      "{'whiskers': [<matplotlib.lines.Line2D object at 0x000001B736F17FC8>, <matplotlib.lines.Line2D object at 0x000001B736F17F88>], 'caps': [<matplotlib.lines.Line2D object at 0x000001B736F1AFC8>, <matplotlib.lines.Line2D object at 0x000001B736F1AF48>], 'boxes': [<matplotlib.lines.Line2D object at 0x000001B736F05948>], 'medians': [<matplotlib.lines.Line2D object at 0x000001B736F1FF48>], 'fliers': [<matplotlib.lines.Line2D object at 0x000001B736F1FEC8>], 'means': []}\n"
     ]
    },
    {
     "data": {
      "image/png": "[encoded data removed]",
      "text/plain": [
       "<Figure size 432x288 with 1 Axes>"
      ]
     },
     "metadata": {
      "needs_background": "light"
     },
     "output_type": "display_data"
    }
   ],
   "source": [
    "print(mp.boxplot(d1.Age))"
   ]
  },
  {
   "cell_type": "markdown",
   "metadata": {},
   "source": [
    "__Age has no outliers__"
   ]
  },
  {
   "cell_type": "code",
   "execution_count": 50,
   "metadata": {},
   "outputs": [
    {
     "name": "stdout",
     "output_type": "stream",
     "text": [
      "{'whiskers': [<matplotlib.lines.Line2D object at 0x000001B7337F9348>, <matplotlib.lines.Line2D object at 0x000001B7357E68C8>], 'caps': [<matplotlib.lines.Line2D object at 0x000001B7358FF908>, <matplotlib.lines.Line2D object at 0x000001B7358FFE48>], 'boxes': [<matplotlib.lines.Line2D object at 0x000001B73395D9C8>], 'medians': [<matplotlib.lines.Line2D object at 0x000001B736F17288>], 'fliers': [<matplotlib.lines.Line2D object at 0x000001B736F426C8>], 'means': []}\n"
     ]
    },
    {
     "data": {
      "image/png": "[encoded data removed]",
      "text/plain": [
       "<Figure size 432x288 with 1 Axes>"
      ]
     },
     "metadata": {
      "needs_background": "light"
     },
     "output_type": "display_data"
    }
   ],
   "source": [
    "print(mp.boxplot(d1.MonthlyIncome))"
   ]
  },
  {
   "cell_type": "markdown",
   "metadata": {},
   "source": [
    "__MonthlyIncome having outliers and positive skewed__"
   ]
  },
  {
   "cell_type": "code",
   "execution_count": 54,
   "metadata": {},
   "outputs": [
    {
     "name": "stdout",
     "output_type": "stream",
     "text": [
      "{'whiskers': [<matplotlib.lines.Line2D object at 0x000001B736BE1048>, <matplotlib.lines.Line2D object at 0x000001B736B22B48>], 'caps': [<matplotlib.lines.Line2D object at 0x000001B736BF7A48>, <matplotlib.lines.Line2D object at 0x000001B736BF7288>], 'boxes': [<matplotlib.lines.Line2D object at 0x000001B736BB6B48>], 'medians': [<matplotlib.lines.Line2D object at 0x000001B736B16C08>], 'fliers': [<matplotlib.lines.Line2D object at 0x000001B736B60648>], 'means': []}\n"
     ]
    },
    {
     "data": {
      "image/png": "[encoded data removed]",
      "text/plain": [
       "<Figure size 432x288 with 1 Axes>"
      ]
     },
     "metadata": {
      "needs_background": "light"
     },
     "output_type": "display_data"
    }
   ],
   "source": [
    "print(mp.boxplot(d1.YearsAtCompany))"
   ]
  },
  {
   "cell_type": "markdown",
   "metadata": {},
   "source": [
    "__Years at company also has outliers and positive skewed__"
   ]
  },
  {
   "cell_type": "code",
   "execution_count": 56,
   "metadata": {},
   "outputs": [
    {
     "name": "stdout",
     "output_type": "stream",
     "text": [
      "{'whiskers': [<matplotlib.lines.Line2D object at 0x000001B7358C9408>, <matplotlib.lines.Line2D object at 0x000001B7357FA608>], 'caps': [<matplotlib.lines.Line2D object at 0x000001B7358C1FC8>, <matplotlib.lines.Line2D object at 0x000001B735890508>], 'boxes': [<matplotlib.lines.Line2D object at 0x000001B734183708>], 'medians': [<matplotlib.lines.Line2D object at 0x000001B735818248>], 'fliers': [<matplotlib.lines.Line2D object at 0x000001B7341B7688>], 'means': []}\n"
     ]
    },
    {
     "data": {
      "image/png": "[encoded data removed]",
      "text/plain": [
       "<Figure size 432x288 with 1 Axes>"
      ]
     },
     "metadata": {
      "needs_background": "light"
     },
     "output_type": "display_data"
    }
   ],
   "source": [
    "print(mp.boxplot(d1.TrainingTimesLastYear))"
   ]
  },
  {
   "cell_type": "markdown",
   "metadata": {},
   "source": [
    "__TrainingTimesLastYear has several outliers and Negative skewed__"
   ]
  },
  {
   "cell_type": "markdown",
   "metadata": {},
   "source": [
    "# <span style=\"color:Blue\"> CORRELATIONS ANALYSIS </span>\n"
   ]
  },
  {
   "cell_type": "markdown",
   "metadata": {},
   "source": [
    "<span style=\"color:Red\">__CORRELATION BETWEEN ATTRITION and AGE__</span>\n",
    "\n",
    "H0 >> There will be no significant correlation between Attrition and Age\n",
    "\n",
    "Ha >> There will be significant correlation between Attrition and Age\n"
   ]
  },
  {
   "cell_type": "code",
   "execution_count": 44,
   "metadata": {},
   "outputs": [
    {
     "name": "stdout",
     "output_type": "stream",
     "text": [
      "-0.15920500686577965 1.996801615886744e-26\n"
     ]
    }
   ],
   "source": [
    "stats,p=pearsonr(d1.Attrition,d1.Age)\n",
    "print(stats,p)"
   ]
  },
  {
   "cell_type": "markdown",
   "metadata": {},
   "source": [
    "___There is moderate negative correlation between Attrition and Age also p-value < 0.05 so will accept Ha i.e.There will be significant correaltion between Attrition and Age___"
   ]
  },
  {
   "cell_type": "markdown",
   "metadata": {},
   "source": [
    "<span style=\"color:Red\">__CORRELATION BETWEEN ATTRITION and DISTANCEFROMHOME__</span>\n",
    "\n",
    "H0 >> There will be no significant correlation between Attrition and DistanceFromHome\n",
    "\n",
    "Ha >> There will be significant correlation between Attrition and DistanceFromHome"
   ]
  },
  {
   "cell_type": "code",
   "execution_count": 80,
   "metadata": {},
   "outputs": [
    {
     "name": "stdout",
     "output_type": "stream",
     "text": [
      "-0.009448638515156243 0.5317715668019558\n"
     ]
    }
   ],
   "source": [
    "stats,p=pearsonr(d1.Attrition,d1.DistanceFromHome)\n",
    "print(stats,p)"
   ]
  },
  {
   "cell_type": "markdown",
   "metadata": {},
   "source": [
    "___There is low negative correlation between Attrition and DistanceFromHome also p-value > 0.05 H0 wii be accepted which stats that there will be no correaltion between Attrition and DistanceFromHome___"
   ]
  },
  {
   "cell_type": "markdown",
   "metadata": {},
   "source": [
    "<span style=\"color:Red\">__CORRELATION BETWEEN ATTRITION and MONTHLYINCOME__</span>\n",
    "\n",
    "H0 >> There will be no significant correlation between Attrition and MonthlyIncome\n",
    "\n",
    "Ha >> There will be significant correlation between Attrition and MonthlyIncome"
   ]
  },
  {
   "cell_type": "code",
   "execution_count": 77,
   "metadata": {},
   "outputs": [
    {
     "name": "stdout",
     "output_type": "stream",
     "text": [
      "-0.030160293808460668 0.045890862744719166\n"
     ]
    }
   ],
   "source": [
    "stats,p=pearsonr(d1.Attrition,d1.MonthlyIncome)\n",
    "print(stats,p)"
   ]
  },
  {
   "cell_type": "markdown",
   "metadata": {},
   "source": [
    "___There is low negative correlation between Attrition and MonthlyIncome and as p-value < 0.05 Ha will be accepted i.e. There will be significant correaltion between Attrition and MonthlyIncome___"
   ]
  },
  {
   "cell_type": "markdown",
   "metadata": {},
   "source": [
    "<span style=\"color:Red\">__CORRELATION BETWEEN ATTRITION and GENDER__</span>\n",
    "\n",
    "H0 >> There will be no significant correlation between Attrition and Gender\n",
    "\n",
    "Ha >> There will be significant correlation between Attrition and Gender"
   ]
  },
  {
   "cell_type": "code",
   "execution_count": 75,
   "metadata": {},
   "outputs": [
    {
     "name": "stdout",
     "output_type": "stream",
     "text": [
      "0.01839642519444095 0.22339966086831062\n"
     ]
    }
   ],
   "source": [
    "stats,p=pearsonr(d1.Attrition,d1.Gender)\n",
    "print(stats,p)"
   ]
  },
  {
   "cell_type": "markdown",
   "metadata": {},
   "source": [
    "___There is low positive correlation between Attrition and Gender also\n",
    "p-value > 0.05 so will accept H0 i.e. There is no significant correlation between Attrition and Gender___"
   ]
  },
  {
   "cell_type": "markdown",
   "metadata": {},
   "source": [
    "<span style = \"color:Red\">__CORRELATION BETWEEN ATTRITION and TOTALWORKINGYEARS__</span>\n",
    "\n",
    "H0 >> There will be no significant correlation between Attrition and TotalWorkingYear\n",
    "\n",
    "Ha >> There will be significant correlation between Attrition and TotalWorkingYear"
   ]
  },
  {
   "cell_type": "code",
   "execution_count": 74,
   "metadata": {},
   "outputs": [
    {
     "name": "stdout",
     "output_type": "stream",
     "text": [
      "-0.16966991684723917 1.1645434967091854e-29\n"
     ]
    }
   ],
   "source": [
    "stats,p=pearsonr(d1.Attrition,d1.TotalWorkingYears)\n",
    "print(stats,p)"
   ]
  },
  {
   "cell_type": "markdown",
   "metadata": {},
   "source": [
    "___There is low negative correlation between Attrition and TotalWorkingYears, also p-value<0.05 hence Ha will be accepted i.e. There will be significant correlation between Attrition and TotalWorkingYears___"
   ]
  },
  {
   "cell_type": "markdown",
   "metadata": {},
   "source": [
    "<span style = \"color:Red\">__CORRELATION BETWEEN ATTRITION and TRAININGTIMESLASTYEAR__</span>\n",
    "\n",
    "H0 >> There will be no significant correlation between Attrition and TrainingTimesLastYear\n",
    "\n",
    "Ha >> There will be significant correlation between Attrition and TrainingTimeslastYear"
   ]
  },
  {
   "cell_type": "code",
   "execution_count": 79,
   "metadata": {},
   "outputs": [
    {
     "name": "stdout",
     "output_type": "stream",
     "text": [
      "-0.04758573693081737 0.0016276603635477602\n"
     ]
    }
   ],
   "source": [
    "stats,p=pearsonr(d1.Attrition,d1.TrainingTimesLastYear)\n",
    "print(stats,p)"
   ]
  },
  {
   "cell_type": "markdown",
   "metadata": {},
   "source": [
    "___There is low negative correlation between Attrition and TotalWorkingYears also as p-value < 0.05 so Ha will be accepted i.e. There will be significant correlation between Atrition and TrainingTimesLastYear___\n",
    "\n"
   ]
  },
  {
   "cell_type": "markdown",
   "metadata": {},
   "source": [
    "<span style = \"color:Red\"> __CORRELATION BETWEEN ATTRITION and YEARSATCOMPANY__</span>\n",
    "\n",
    "H0 >> There will be no significant relation between Attrition and YearsAtCompany\n",
    "\n",
    "Ha >> There will be significant relation between Attrition and YearsAtCompany"
   ]
  },
  {
   "cell_type": "code",
   "execution_count": 81,
   "metadata": {},
   "outputs": [
    {
     "name": "stdout",
     "output_type": "stream",
     "text": [
      "-0.13300261842521538 9.476118084840815e-19\n"
     ]
    }
   ],
   "source": [
    "stats,p=pearsonr(d1.Attrition,d1.YearsAtCompany)\n",
    "print(stats,p)"
   ]
  },
  {
   "cell_type": "markdown",
   "metadata": {},
   "source": [
    "___There is low negative correlation between Attrition and YearsAtCompany also as p-value < 0.05 so Ha will be accepted i.e. There will be significant correlation between Atrition and YearsAtCompany___\n",
    "\n"
   ]
  },
  {
   "cell_type": "markdown",
   "metadata": {},
   "source": [
    "<span style = \"color:Red\"> __CORRELATION BETWEEN ATTRITION and YEARSSINCELASTPROMOTION__</span>\n",
    "\n",
    "H0 >> There will be no significant relation between Attrition and YearsSinceLastPromotion\n",
    "\n",
    "Ha >> There will be significant relation between Attrition and YearsSinceLastPromotion"
   ]
  },
  {
   "cell_type": "code",
   "execution_count": 83,
   "metadata": {},
   "outputs": [
    {
     "name": "stdout",
     "output_type": "stream",
     "text": [
      "-0.03142315056330995 0.03752293607395154\n"
     ]
    }
   ],
   "source": [
    "stats,p=pearsonr(d1.Attrition,d1.YearsSinceLastPromotion)\n",
    "print(stats,p)"
   ]
  },
  {
   "cell_type": "markdown",
   "metadata": {},
   "source": [
    "___There is low negative correlation between Attrition and YearsSinceLastPromotion also as p-value > 0.05 so H0 will be accepted i.e. There will be no significant correlation between Atrition and YearsSinceLastPromotion___\n",
    "\n"
   ]
  },
  {
   "cell_type": "markdown",
   "metadata": {},
   "source": [
    "<span style = \"color:Red\"> __CORRELATION BETWEEN ATTRITION and YEARSWITHCURRMANAGER__</span>\n",
    "\n",
    "H0 >> There will be no significant relation between Attrition and YearsWithCurrManager\n",
    "\n",
    "Ha >> There will be significant relation between Attrition and YearsWithCurrManager"
   ]
  },
  {
   "cell_type": "code",
   "execution_count": 84,
   "metadata": {},
   "outputs": [
    {
     "name": "stdout",
     "output_type": "stream",
     "text": [
      "-0.15469153690287274 7.105369646771178e-25\n"
     ]
    }
   ],
   "source": [
    "stats,p=pearsonr(d1.Attrition,d1.YearsWithCurrManager)\n",
    "print(stats,p)"
   ]
  },
  {
   "cell_type": "markdown",
   "metadata": {},
   "source": [
    "___There is low negative correlation between Attrition and YearsWithCurrManager also as p-value < 0.05 so Ha will be accepted i.e. There will be significant correlation between Atrition and YearsWithCurrManager___\n",
    "\n"
   ]
  },
  {
   "cell_type": "markdown",
   "metadata": {},
   "source": [
    "<span style = \"color:Red\"> __CORRELATION BETWEEN ATTRITION and BUSINESS TRAVEL__</span>\n",
    "\n",
    "H0 >> There will be no significant relation between Attrition and Business Travel\n",
    "\n",
    "Ha >> There will be significant relation between Attrition and Business Travel"
   ]
  },
  {
   "cell_type": "code",
   "execution_count": 108,
   "metadata": {},
   "outputs": [
    {
     "name": "stdout",
     "output_type": "stream",
     "text": [
      "0.12530593310429688 8.411436982028483e-17\n"
     ]
    }
   ],
   "source": [
    "stats,p=pearsonr(d1.Attrition,d1.BusinessTravel)\n",
    "print(stats,p)"
   ]
  },
  {
   "cell_type": "markdown",
   "metadata": {},
   "source": [
    "___There is low positive correlation between Attrition and Business Travel also as p-value < 0.05 so Ha will be accepted i.e. There will be significant correlation between Atrition and Business Travel___\n",
    "\n"
   ]
  },
  {
   "cell_type": "markdown",
   "metadata": {},
   "source": [
    "<span style = \"color:Red\"> __CORRELATION BETWEEN ATTRITION and DEPARTMENT__</span>\n",
    "\n",
    "H0 >> There will be no significant relation between Attrition and Department\n",
    "\n",
    "Ha >> There will be significant relation between Attrition and Department"
   ]
  },
  {
   "cell_type": "code",
   "execution_count": 109,
   "metadata": {},
   "outputs": [
    {
     "name": "stdout",
     "output_type": "stream",
     "text": [
      "0.0446237516075303 0.0031310203124893013\n"
     ]
    }
   ],
   "source": [
    "stats,p=pearsonr(d1.Attrition,d1.Department)\n",
    "print(stats,p)"
   ]
  },
  {
   "cell_type": "markdown",
   "metadata": {},
   "source": [
    "___There is low positive correlation between Attrition and Business Travel also as p-value < 0.05 so Ha will be accepted i.e. There will be significant correlation between Atrition and Department___\n",
    "\n"
   ]
  },
  {
   "cell_type": "markdown",
   "metadata": {},
   "source": [
    "<span style = \"color:Red\"> __CORRELATION BETWEEN ATTRITION and EDUCATION FIELD__</span>\n",
    "\n",
    "H0 >> There will be no significant relation between Attrition and Education Field\n",
    "\n",
    "Ha >> There will be significant relation between Attrition and Education Field"
   ]
  },
  {
   "cell_type": "code",
   "execution_count": 110,
   "metadata": {},
   "outputs": [
    {
     "name": "stdout",
     "output_type": "stream",
     "text": [
      "0.0446237516075303 0.0031310203124893013\n"
     ]
    }
   ],
   "source": [
    "stats,p=pearsonr(d1.Attrition,d1.Department)\n",
    "print(stats,p)"
   ]
  },
  {
   "cell_type": "markdown",
   "metadata": {},
   "source": [
    "___There is low positive correlation between Attrition and Business Travel also as p-value < 0.05 so Ha will be accepted i.e. There will be significant correlation between Atrition and EducationField___\n",
    "\n"
   ]
  },
  {
   "cell_type": "markdown",
   "metadata": {},
   "source": [
    "# <span style=\"color:Blue\"> TEST ANALYSIS </span>"
   ]
  },
  {
   "cell_type": "code",
   "execution_count": 42,
   "metadata": {},
   "outputs": [],
   "source": [
    "d2=pd.read_excel(\"general_data.xlsx\",sheet_name=1)\n",
    "d3=pd.read_excel(\"general_data.xlsx\",sheet_name=2)\n",
    "from sklearn import preprocessing\n",
    "Label_encoder = preprocessing.LabelBinarizer()\n",
    "d2[\"Attrition\"]=Label_encoder.fit_transform(d2[\"Attrition\"])\n",
    "d3[\"Attrition\"]=Label_encoder.fit_transform(d3[\"Attrition\"])\n",
    "d2=d2.dropna()\n",
    "d2=d2.drop_duplicates()\n",
    "d3=d3.dropna()\n",
    "d3=d3.drop_duplicates()"
   ]
  },
  {
   "cell_type": "markdown",
   "metadata": {},
   "source": [
    "#  MANN-WHITNEY TEST "
   ]
  },
  {
   "cell_type": "markdown",
   "metadata": {},
   "source": [
    "<span style=\"color:Red\">__ATTRITION Vs DISTANCE FROM HOME__</span>\n",
    "\n",
    "H0 >> There is no significant differences in the DistanceFromHome between Attrition (Y) and Attrition (N)\n",
    "\n",
    "H0 >> There is significant differences in the DistanceFromHome between Attrition (Y) and Attrition (N)\n"
   ]
  },
  {
   "cell_type": "code",
   "execution_count": 58,
   "metadata": {},
   "outputs": [
    {
     "name": "stdout",
     "output_type": "stream",
     "text": [
      "1295261.0 0.488538986087403\n"
     ]
    }
   ],
   "source": [
    "a1=d2.DistanceFromHome\n",
    "a2=d3.DistanceFromHome\n",
    "stat,p = mannwhitneyu(a1,a2)\n",
    "print(stat,p)"
   ]
  },
  {
   "cell_type": "markdown",
   "metadata": {},
   "source": [
    "___As p -value > 0.05, hence H0 will be accepted i.e.___\n",
    "\n",
    "___There will be  significant differences in the DistanceFromHome between Attrition(Y) and Attrition (N)___"
   ]
  },
  {
   "cell_type": "markdown",
   "metadata": {},
   "source": [
    "<span style=\"color:Red\">__ATTRITION Vs MONTHLY INCOME__</span>\n",
    "\n",
    "H0 >> There is no significant difference in MonthlyIncome between the employees leaving the company and those staying in the         company.\n",
    "\n",
    "Ha >>There is significant difference in MonthlyIncome between the employees leaving the company and those staying in the            company."
   ]
  },
  {
   "cell_type": "code",
   "execution_count": 59,
   "metadata": {},
   "outputs": [
    {
     "name": "stdout",
     "output_type": "stream",
     "text": [
      "1249573.5 0.06508807631576838\n"
     ]
    }
   ],
   "source": [
    "m1=d2.MonthlyIncome\n",
    "m2=d3.MonthlyIncome\n",
    "stat,p = mannwhitneyu(m1,m2)\n",
    "print(stat,p)"
   ]
  },
  {
   "cell_type": "markdown",
   "metadata": {},
   "source": [
    "___As p-value > 0.05, hence Ha will be accepted i.e.___\n",
    "\n",
    "___There is no significant difference between the monthly income of employees leaving the company and those staying in the company.___\n",
    "\n"
   ]
  },
  {
   "cell_type": "markdown",
   "metadata": {},
   "source": [
    "<span style=\"color:Red\">__ATTRITION Vs PERCENT SALARY HIKE__</span>\n",
    "\n",
    "H0 >> There is no significant difference in percentsalaryhike between the employees who leaving the company and those staying in the company.\n",
    "\n",
    "Ha >>There is significant difference in perecentsalaryhike between the employees who leaving the company and those staying in the company."
   ]
  },
  {
   "cell_type": "code",
   "execution_count": 67,
   "metadata": {},
   "outputs": [
    {
     "name": "stdout",
     "output_type": "stream",
     "text": [
      "1231873.5 0.017810794960084964\n"
     ]
    }
   ],
   "source": [
    "m1=d2.PercentSalaryHike\n",
    "m2=d3.PercentSalaryHike\n",
    "stat,p = mannwhitneyu(m1,m2)\n",
    "print(stat,p)"
   ]
  },
  {
   "cell_type": "markdown",
   "metadata": {},
   "source": [
    "___p-value < 0.05, Ha will be accepted i.e.___\n",
    "\n",
    "___There is significant difference in percentsalaryhike between the employees who leaving the company and those who stay___\n"
   ]
  },
  {
   "cell_type": "markdown",
   "metadata": {},
   "source": [
    "<span style=\"color:Red\">__ATTRITION Vs TOTAL WORKING YEARS__</span>\n",
    "\n",
    "H0 >> There is no significant difference in TotalWorkingYears between the employees who leaving the company and those staying in the company.\n",
    "\n",
    "Ha >>There is significant difference in TotalWorkingYears between the employees who leaving the company and those staying in the company."
   ]
  },
  {
   "cell_type": "code",
   "execution_count": 68,
   "metadata": {},
   "outputs": [
    {
     "name": "stdout",
     "output_type": "stream",
     "text": [
      "895173.5 2.741211827689903e-39\n"
     ]
    }
   ],
   "source": [
    "m1=d2.TotalWorkingYears\n",
    "m2=d3.TotalWorkingYears\n",
    "stat,p = mannwhitneyu(m1,m2)\n",
    "print(stat,p)"
   ]
  },
  {
   "cell_type": "markdown",
   "metadata": {},
   "source": [
    "___p-value < 0.05, Ha will be accepted i.e.___\n",
    "\n",
    "___There is significant difference in TotalWorkingYears between the employees who leaving the company and those who stay___\n"
   ]
  },
  {
   "cell_type": "markdown",
   "metadata": {},
   "source": [
    "<span style=\"color:Red\">__ATTRITION Vs YEARS AT COMPANY__</span>\n",
    "\n",
    "H0 >> There is no significant difference in YearsAtCompany between the employees who leaving the company and those staying in the company.\n",
    "\n",
    "Ha >>There is significant difference in YearsAtCompany between the employees who leaving the company and those staying in the company."
   ]
  },
  {
   "cell_type": "code",
   "execution_count": 69,
   "metadata": {},
   "outputs": [
    {
     "name": "stdout",
     "output_type": "stream",
     "text": [
      "912579.0 3.3433144809752036e-36\n"
     ]
    }
   ],
   "source": [
    "m1=d2.YearsAtCompany\n",
    "m2=d3.YearsAtCompany\n",
    "stat,p = mannwhitneyu(m1,m2)\n",
    "print(stat,p)"
   ]
  },
  {
   "cell_type": "markdown",
   "metadata": {},
   "source": [
    "___p-value < 0.05, Ha will be accepted i.e.___\n",
    "\n",
    "___There is significant difference in YearsAtCompany between the employees who leaving the company and those who stay___\n"
   ]
  },
  {
   "cell_type": "markdown",
   "metadata": {},
   "source": [
    "<span style=\"color:Red\">__ATTRITION Vs YEARS SINCE LAST PROMOTION__</span>\n",
    "\n",
    "H0 >> There is no significant difference in Years Since Last Promotion between the employees who leaving the company and those staying in the company.\n",
    "\n",
    "Ha >>There is significant difference in Years Since Last Promotion between the employees who leaving the company and those stayed"
   ]
  },
  {
   "cell_type": "code",
   "execution_count": 70,
   "metadata": {},
   "outputs": [
    {
     "name": "stdout",
     "output_type": "stream",
     "text": [
      "1196606.0 0.00037904698157957496\n"
     ]
    }
   ],
   "source": [
    "m1=d2.YearsSinceLastPromotion\n",
    "m2=d3.YearsSinceLastPromotion\n",
    "stat,p = mannwhitneyu(m1,m2)\n",
    "print(stat,p)"
   ]
  },
  {
   "cell_type": "markdown",
   "metadata": {},
   "source": [
    "___p-value < 0.05, Ha will be accepted i.e.___\n",
    "\n",
    "___There is significant difference in Years Since Last Promotion between the employees who leaving the company and those who stayed___\n"
   ]
  },
  {
   "cell_type": "markdown",
   "metadata": {},
   "source": [
    "<span style=\"color:Red\">__ATTRITION Vs TRAINING TIMES LAST YEAR__</span>\n",
    "\n",
    "H0 >> There is no significant difference in Training Times Last Year between the employees who leaving the company and those stayed in the company.\n",
    "\n",
    "Ha >>There is significant difference in Training Times Last Year between the employees who left the company and those stayed in the company."
   ]
  },
  {
   "cell_type": "code",
   "execution_count": 89,
   "metadata": {},
   "outputs": [
    {
     "name": "stdout",
     "output_type": "stream",
     "text": [
      "1225582.0 0.008107344081224082\n"
     ]
    }
   ],
   "source": [
    "m1=d2.TrainingTimesLastYear\n",
    "m2=d3.TrainingTimesLastYear\n",
    "stat,p = mannwhitneyu(m1,m2)\n",
    "print(stat,p)"
   ]
  },
  {
   "cell_type": "markdown",
   "metadata": {},
   "source": [
    "___p-value < 0.05, Ha will be accepted i.e.___\n",
    "\n",
    "___There is significant difference in Training Times Last Year between the employees who left the company and those who stayed___\n"
   ]
  },
  {
   "cell_type": "markdown",
   "metadata": {},
   "source": [
    "<span style=\"color:Red\">__ATTRITION Vs AGE__</span>\n",
    "\n",
    "H0 >> There is no significant difference in Age between the employees who leaving the company and those stayed in the company.\n",
    "\n",
    "Ha >>There is significant difference in Age between the employees who left the company and those stayed in the company."
   ]
  },
  {
   "cell_type": "code",
   "execution_count": 88,
   "metadata": {},
   "outputs": [
    {
     "name": "stdout",
     "output_type": "stream",
     "text": [
      "949178.0 7.98668614365882e-30\n"
     ]
    }
   ],
   "source": [
    "m1=d2.Age\n",
    "m2=d3.Age\n",
    "stat,p = mannwhitneyu(m1,m2)\n",
    "print(stat,p)"
   ]
  },
  {
   "cell_type": "markdown",
   "metadata": {},
   "source": [
    "___p-value < 0.05, Ha will be accepted i.e.___\n",
    "\n",
    "___There is significant difference in Age between the employees who left the company and those who stayed___\n"
   ]
  },
  {
   "cell_type": "markdown",
   "metadata": {},
   "source": [
    "# CHI-SQUARE TEST"
   ]
  },
  {
   "cell_type": "code",
   "execution_count": 74,
   "metadata": {},
   "outputs": [],
   "source": [
    "from scipy.stats import chi2_contingency"
   ]
  },
  {
   "cell_type": "markdown",
   "metadata": {},
   "source": [
    "<span style=\"color:Red\">__ATTRITION Vs GENDER__</span>\n",
    "\n",
    "H0 >> There is no dependency between Gender and Attrition \n",
    "\n",
    "Ha >> There is dependency between Gender and Attrition"
   ]
  },
  {
   "cell_type": "code",
   "execution_count": 86,
   "metadata": {},
   "outputs": [
    {
     "name": "stdout",
     "output_type": "stream",
     "text": [
      "1.3825823839528295 0.23966176275638887\n"
     ]
    }
   ],
   "source": [
    "m1=pd.crosstab(d1.Attrition,d1.Gender)\n",
    "stats,p,dof,expected = chi2_contingency(m1)\n",
    "print(stats,p)"
   ]
  },
  {
   "cell_type": "markdown",
   "metadata": {},
   "source": [
    "___p-value > 0.05, H0 will be accepted i.e.___\n",
    "\n",
    "___There is no dependency between Gender and Attrition___\n"
   ]
  },
  {
   "cell_type": "markdown",
   "metadata": {},
   "source": [
    "<span style=\"color:Red\">__ATTRITION Vs BUSINESS TRAVEL__</span>\n",
    "\n",
    "H0 >> There is no dependency between Business Travel and Attrition \n",
    "\n",
    "Ha >> There is dependency between Business Travel and Attrition"
   ]
  },
  {
   "cell_type": "code",
   "execution_count": 87,
   "metadata": {},
   "outputs": [
    {
     "name": "stdout",
     "output_type": "stream",
     "text": [
      "70.07594084831368 6.070197027363876e-16\n"
     ]
    }
   ],
   "source": [
    "m1=pd.crosstab(d1.Attrition,d1.BusinessTravel)\n",
    "stats,p,dof,expected = chi2_contingency(m1)\n",
    "print(stats,p)"
   ]
  },
  {
   "cell_type": "markdown",
   "metadata": {},
   "source": [
    "___p-value < 0.05, Ha will be accepted i.e.___\n",
    "\n",
    "___There is dependency between Business Travel and Attrition___\n"
   ]
  },
  {
   "cell_type": "markdown",
   "metadata": {},
   "source": [
    "<span style=\"color:Red\">__ATTRITION Vs DEPARTMENT__</span>\n",
    "\n",
    "H0 >> There is no dependency between Department and Attrition \n",
    "\n",
    "Ha >> There is dependency between Department and Attrition"
   ]
  },
  {
   "cell_type": "code",
   "execution_count": 90,
   "metadata": {},
   "outputs": [
    {
     "name": "stdout",
     "output_type": "stream",
     "text": [
      "8764.0 0.0\n"
     ]
    }
   ],
   "source": [
    "m1=pd.crosstab(d1.Department,d1.Department)\n",
    "stats,p,dof,expected = chi2_contingency(m1)\n",
    "print(stats,p)"
   ]
  },
  {
   "cell_type": "markdown",
   "metadata": {},
   "source": [
    "___p-value < 0.05, Ha will be accepted i.e.___\n",
    "\n",
    "___There is dependency between Department and Attrition___\n"
   ]
  },
  {
   "cell_type": "markdown",
   "metadata": {},
   "source": [
    "<span style=\"color:Red\">__ATTRITION Vs EDUCATION FIELD__</span>\n",
    "\n",
    "H0 >> There is no dependency between Education Field and Attrition \n",
    "\n",
    "Ha >> There is dependency between Education Field and Attrition"
   ]
  },
  {
   "cell_type": "code",
   "execution_count": 91,
   "metadata": {},
   "outputs": [
    {
     "name": "stdout",
     "output_type": "stream",
     "text": [
      "17528.0 0.0\n"
     ]
    }
   ],
   "source": [
    "m1=pd.crosstab(d1.Education,d1.Education)\n",
    "stats,p,dof,expected = chi2_contingency(m1)\n",
    "print(stats,p)"
   ]
  },
  {
   "cell_type": "markdown",
   "metadata": {},
   "source": [
    "___p-value < 0.05, Ha will be accepted i.e.___\n",
    "\n",
    "___There is dependency between Education Field and Attrition___\n"
   ]
  },
  {
   "cell_type": "markdown",
   "metadata": {},
   "source": [
    "<span style=\"color:Red\">__ATTRITION Vs JOB ROLE__</span>\n",
    "\n",
    "H0 >> There is no dependency between Job Role and Attrition \n",
    "\n",
    "Ha >> There is dependency between Job Role and Attrition"
   ]
  },
  {
   "cell_type": "code",
   "execution_count": 92,
   "metadata": {},
   "outputs": [
    {
     "name": "stdout",
     "output_type": "stream",
     "text": [
      "35056.0 0.0\n"
     ]
    }
   ],
   "source": [
    "m1=pd.crosstab(d1.JobRole,d1.JobRole)\n",
    "stats,p,dof,expected = chi2_contingency(m1)\n",
    "print(stats,p)"
   ]
  },
  {
   "cell_type": "markdown",
   "metadata": {},
   "source": [
    "___p-value < 0.05, Ha will be accepted i.e.___\n",
    "\n",
    "___There is dependency between Job Role and Attrition___\n"
   ]
  },
  {
   "cell_type": "markdown",
   "metadata": {},
   "source": [
    "<span style=\"color:Red\">__ATTRITION Vs MARITAL STATUS__</span>\n",
    "\n",
    "H0 >> There is no dependency between Marital Status and Attrition \n",
    "\n",
    "Ha >> There is dependency between Marital Status and Attrition"
   ]
  },
  {
   "cell_type": "code",
   "execution_count": 93,
   "metadata": {},
   "outputs": [
    {
     "name": "stdout",
     "output_type": "stream",
     "text": [
      "8764.0 0.0\n"
     ]
    }
   ],
   "source": [
    "m1=pd.crosstab(d1.MaritalStatus,d1.MaritalStatus)\n",
    "stats,p,dof,expected = chi2_contingency(m1)\n",
    "print(stats,p)"
   ]
  },
  {
   "cell_type": "markdown",
   "metadata": {},
   "source": [
    "___p-value < 0.05, Ha will be accepted i.e.___\n",
    "\n",
    "___There is dependency between Marital Status and Attrition___\n"
   ]
  },
  {
   "cell_type": "markdown",
   "metadata": {},
   "source": [
    "# <span style=\"color:Blue\"> CONCLUSION </span> "
   ]
  },
  {
   "cell_type": "markdown",
   "metadata": {},
   "source": [
    "__Employees who left have less salary hike, so this could be managed by increasing hike without loss in company.__\n",
    "\n",
    "__Employees mostly left due to less working experience and also having less knowledge about technology, hence training should be arranged frequently to make employees more relevant to new technologies.__\n",
    "\n",
    "__Promotion with years of experience is necessary and also one of factor affecting attrition__\n",
    "\n",
    "__Business Travel is very necessary to keep employees uptodate and cultivate enthusisasm among employees, so there should be compulsory business trip for employees who travel rarely.__\n",
    "\n",
    "__Some parameters such as  Marital Status, Job Role, Education Field are some of the parameters, which show strong association with attrition, positively or negatively.__"
   ]
  }
 ],
 "metadata": {
  "kernelspec": {
   "display_name": "Python 3",
   "language": "python",
   "name": "python3"
  },
  "language_info": {
   "codemirror_mode": {
    "name": "ipython",
    "version": 3
   },
   "file_extension": ".py",
   "mimetype": "text/x-python",
   "name": "python",
   "nbconvert_exporter": "python",
   "pygments_lexer": "ipython3",
   "version": "3.7.6"
  }
 },
 "nbformat": 4,
 "nbformat_minor": 4
}
