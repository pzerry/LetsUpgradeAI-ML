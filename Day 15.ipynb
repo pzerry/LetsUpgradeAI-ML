{
 "cells": [
  {
   "cell_type": "markdown",
   "metadata": {},
   "source": [
    "# 1. Create a 3x3x3 array with random values "
   ]
  },
  {
   "cell_type": "code",
   "execution_count": 10,
   "metadata": {},
   "outputs": [
    {
     "name": "stdout",
     "output_type": "stream",
     "text": [
      "[[[1.22461926 0.0430489  0.92523077]\n",
      "  [2.04882013 0.4012677  0.19070389]\n",
      "  [1.68695306 0.23475777 0.81528226]]\n",
      "\n",
      " [[0.96784173 0.63806655 0.78986859]\n",
      "  [0.60864967 0.20364198 0.46922222]\n",
      "  [0.2942867  0.46541379 0.16193522]]\n",
      "\n",
      " [[0.56294575 0.78053546 0.65671876]\n",
      "  [0.30265834 0.20614384 0.34443407]\n",
      "  [1.45526394 0.92964391 0.7981744 ]]] \n",
      "\n",
      "[[[-2.85402932 -0.15470356 -0.77538044]\n",
      "  [-0.61105716  1.20896367  0.45079516]\n",
      "  [ 1.38937869  1.67763354 -1.01329086]]\n",
      "\n",
      " [[-1.25170242  0.24747523  2.12708518]\n",
      "  [-0.65244807  1.68489065  0.72951656]\n",
      "  [-0.46728629  0.75279279 -2.43441497]]\n",
      "\n",
      " [[-1.11384146 -1.12839621  1.5602834 ]\n",
      "  [-0.81836988 -0.38649951  0.74505086]\n",
      "  [ 0.57482109  0.86417212  0.12136599]]]\n"
     ]
    }
   ],
   "source": [
    "from numpy import array\n",
    "import numpy as np\n",
    "arr=np.empty((3,3,3))\n",
    "arr1=np.random.randn(3,3,3)\n",
    "print(arr,\"\\n\")\n",
    "print(arr1)"
   ]
  },
  {
   "cell_type": "markdown",
   "metadata": {},
   "source": [
    "# 2.Create a 5x5 matrix with values 1,2,3,4 just below the diagonal"
   ]
  },
  {
   "cell_type": "code",
   "execution_count": 25,
   "metadata": {},
   "outputs": [
    {
     "name": "stdout",
     "output_type": "stream",
     "text": [
      "[[1. 0. 0. 0. 0.]\n",
      " [1. 1. 0. 0. 0.]\n",
      " [0. 2. 1. 0. 0.]\n",
      " [0. 0. 3. 1. 0.]\n",
      " [0. 0. 0. 4. 1.]]\n"
     ]
    }
   ],
   "source": [
    "arr1 = np.eye(5,5)\n",
    "for i in range(1,5):\n",
    "    arr1[i,i-1]=i\n",
    "print(arr1)"
   ]
  },
  {
   "cell_type": "markdown",
   "metadata": {},
   "source": [
    "# 3.Create a 8x8 matrix and fill it with a checkerboard pattern"
   ]
  },
  {
   "cell_type": "code",
   "execution_count": 31,
   "metadata": {},
   "outputs": [
    {
     "name": "stdout",
     "output_type": "stream",
     "text": [
      "[[1. 0. 1. 0. 1. 0. 1. 0.]\n",
      " [0. 1. 0. 1. 0. 1. 0. 1.]\n",
      " [1. 0. 1. 0. 1. 0. 1. 0.]\n",
      " [0. 1. 0. 1. 0. 1. 0. 1.]\n",
      " [1. 0. 1. 0. 1. 0. 1. 0.]\n",
      " [0. 1. 0. 1. 0. 1. 0. 1.]\n",
      " [1. 0. 1. 0. 1. 0. 1. 0.]\n",
      " [0. 1. 0. 1. 0. 1. 0. 1.]]\n"
     ]
    }
   ],
   "source": [
    "arr = np.eye(8,8)\n",
    "l1=[1,0,1,0,1,0,1,0]\n",
    "l2=[0,1,0,1,0,1,0,1]\n",
    "for i in range(8):\n",
    "    if i%2==0:\n",
    "        arr[i]=l1\n",
    "    else:\n",
    "        arr[i]=l2\n",
    "print(arr)\n",
    "        \n"
   ]
  },
  {
   "cell_type": "markdown",
   "metadata": {},
   "source": [
    "# 4. Normalize a 5x5 random matrix"
   ]
  },
  {
   "cell_type": "code",
   "execution_count": 41,
   "metadata": {},
   "outputs": [
    {
     "name": "stdout",
     "output_type": "stream",
     "text": [
      "[[ 0.92845659  1.96304862  0.11727903 -0.35958399  1.37109406]\n",
      " [ 1.10984029 -0.9003322   0.94722238  0.48246194 -0.13086597]\n",
      " [-0.21920646 -0.31296006  1.558597    1.02028951  0.58822919]\n",
      " [ 0.17724552 -1.54675111  0.62239496  0.9335346   0.26098789]\n",
      " [-0.16930208 -0.40616491 -1.71598597 -1.43628578 -0.15802345]]\n",
      "[[-0.21930348 -0.46367639 -0.02770156  0.08493453 -0.32385543]\n",
      " [-0.26214671  0.21266044 -0.22373601 -0.11395857  0.03091083]\n",
      " [ 0.05177705  0.07392185 -0.36814403 -0.24099462 -0.13894103]\n",
      " [-0.04186578  0.36534601 -0.14701106 -0.22050292 -0.06164591]\n",
      " [ 0.03998952  0.09593704  0.40531965  0.33925386  0.03732549]]\n"
     ]
    }
   ],
   "source": [
    "arr=np.random.randn(5,5)\n",
    "print(arr)\n",
    "a=np.linalg.det(arr)\n",
    "print(arr/a)\n"
   ]
  },
  {
   "cell_type": "markdown",
   "metadata": {},
   "source": [
    "# 5.  How to find common values between two arrays?"
   ]
  },
  {
   "cell_type": "code",
   "execution_count": 44,
   "metadata": {},
   "outputs": [
    {
     "name": "stdout",
     "output_type": "stream",
     "text": [
      "Common values between two arrays:\n",
      "[2 3 4]\n"
     ]
    }
   ],
   "source": [
    "arr1 = np.array([1,2,3,4,5,6])\n",
    "arr2 = [2,3,4,8,9,7,0]\n",
    "print(\"Common values between two arrays:\")\n",
    "print(np.intersect1d(arr1, arr2))"
   ]
  },
  {
   "cell_type": "markdown",
   "metadata": {},
   "source": [
    "# 6.How to get the dates of yesterday, today and tomorrow?"
   ]
  },
  {
   "cell_type": "code",
   "execution_count": 42,
   "metadata": {},
   "outputs": [
    {
     "name": "stdout",
     "output_type": "stream",
     "text": [
      "Yestraday:  2020-07-27\n",
      "Today:  2020-07-28\n",
      "Tomorrow:  2020-07-29\n"
     ]
    }
   ],
   "source": [
    "yesterday = np.datetime64('today', 'D') - np.timedelta64(1, 'D')\n",
    "print(\"Yestraday: \",yesterday)\n",
    "today     = np.datetime64('today', 'D')\n",
    "print(\"Today: \",today)\n",
    "tomorrow  = np.datetime64('today', 'D') + np.timedelta64(1, 'D')\n",
    "print(\"Tomorrow: \",tomorrow)"
   ]
  },
  {
   "cell_type": "markdown",
   "metadata": {},
   "source": [
    "# 7. Consider two random array A and B, check if they are equal"
   ]
  },
  {
   "cell_type": "code",
   "execution_count": 54,
   "metadata": {},
   "outputs": [
    {
     "name": "stdout",
     "output_type": "stream",
     "text": [
      "[4.31881022 3.15286738 7.55834142 8.86515064 9.89620071]\n",
      "[4.31881022 3.15286738 7.55834142 8.86515064 9.89620071]\n",
      "True\n"
     ]
    }
   ],
   "source": [
    "arr = np.empty((5))\n",
    "print(arr)\n",
    "arr2 = np.empty((5))\n",
    "print(arr2)\n",
    "arrequal = np.allclose(arr, arr2)\n",
    "print(arrequal)\n"
   ]
  },
  {
   "cell_type": "markdown",
   "metadata": {},
   "source": [
    "# 8.Create random vector of size 10 and replace the maximum value by 0 "
   ]
  },
  {
   "cell_type": "code",
   "execution_count": 72,
   "metadata": {},
   "outputs": [
    {
     "name": "stdout",
     "output_type": "stream",
     "text": [
      "[0.96340849 0.58662844 0.41662151 0.27490498 0.73072334 0.8799136\n",
      " 0.15030713 0.10512106 0.51342198 0.51392457 0.21055178 0.05551186\n",
      " 0.91940292 0.69370891 0.49206211] \n",
      "\n",
      "Maximum value replaced by 0:\n",
      "[0.         0.58662844 0.41662151 0.27490498 0.73072334 0.8799136\n",
      " 0.15030713 0.10512106 0.51342198 0.51392457 0.21055178 0.05551186\n",
      " 0.91940292 0.69370891 0.49206211]\n"
     ]
    }
   ],
   "source": [
    "arr = np.random.random(15)\n",
    "print(arr,\"\\n\")\n",
    "arr[arr.argmax()] = 0\n",
    "print(\"Maximum value replaced by 0:\")\n",
    "print(arr)"
   ]
  },
  {
   "cell_type": "markdown",
   "metadata": {},
   "source": [
    "# 9. How to print all the values of an array?"
   ]
  },
  {
   "cell_type": "code",
   "execution_count": 61,
   "metadata": {},
   "outputs": [
    {
     "name": "stdout",
     "output_type": "stream",
     "text": [
      "[1. 1. 1. 2. 1. 3. 1. 4. 1.]\n"
     ]
    }
   ],
   "source": [
    "a=np.empty((9))\n",
    "print(a[:])"
   ]
  },
  {
   "cell_type": "markdown",
   "metadata": {},
   "source": [
    "# 10.Subtract the mean of each row of a matrix"
   ]
  },
  {
   "cell_type": "code",
   "execution_count": 73,
   "metadata": {},
   "outputs": [
    {
     "name": "stdout",
     "output_type": "stream",
     "text": [
      "[[ 0.43179577 -0.25285291  0.10959676 -0.27922469  0.24297529 -0.25229022]\n",
      " [-0.41141799 -0.28803657  0.13032369  0.34074156  0.38529399 -0.15690468]\n",
      " [ 0.05032188  0.5234476   0.05212295 -0.26677019 -0.40016293  0.04104069]]\n"
     ]
    }
   ],
   "source": [
    "arr1=np.random.rand(3,6)\n",
    "Y = arr1 - arr1.mean(axis=1,keepdims=True)\n",
    "print(Y)"
   ]
  },
  {
   "cell_type": "markdown",
   "metadata": {},
   "source": [
    "# 11.Consider a given vector, how to add 1 to each element indexed by a second vector (be careful with repeated indices)? "
   ]
  },
  {
   "cell_type": "code",
   "execution_count": 78,
   "metadata": {},
   "outputs": [
    {
     "name": "stdout",
     "output_type": "stream",
     "text": [
      "[4. 1. 2. 4. 3. 2. 5. 5. 2. 2.]\n"
     ]
    }
   ],
   "source": [
    "Z = np.ones(10)\n",
    "I = np.random.randint(0,len(Z),20)\n",
    "np.add.at(Z, I, 1)\n",
    "print(Z)"
   ]
  },
  {
   "cell_type": "markdown",
   "metadata": {},
   "source": [
    "# 12.How to get the diagonal of a dot product?"
   ]
  },
  {
   "cell_type": "code",
   "execution_count": 87,
   "metadata": {},
   "outputs": [
    {
     "name": "stdout",
     "output_type": "stream",
     "text": [
      "[4 2]\n"
     ]
    }
   ],
   "source": [
    "a = array([[1, 0], [0, 1]])\n",
    "b = array([[4, 1], [2, 2]])\n",
    "c=(np.dot(a, b))\n",
    "print(c.diagonal())"
   ]
  },
  {
   "cell_type": "markdown",
   "metadata": {},
   "source": [
    "# 13.How to find the most frequent value in an array?"
   ]
  },
  {
   "cell_type": "code",
   "execution_count": 88,
   "metadata": {},
   "outputs": [
    {
     "name": "stdout",
     "output_type": "stream",
     "text": [
      "Original array:\n",
      "[3 5 2 0 7 2 7 2 4 2 5 8 6 7 7 6 0 5 8 9 4 8 7 6 4 3 4 3 5 4 2 6 4 5 9 9 5\n",
      " 5 6 1]\n",
      "Most frequent value in the above array:\n",
      "5\n"
     ]
    }
   ],
   "source": [
    "x = np.random.randint(0, 10, 40)\n",
    "print(\"Original array:\")\n",
    "print(x)\n",
    "print(\"Most frequent value in the above array:\")\n",
    "print(np.bincount(x).argmax())"
   ]
  },
  {
   "cell_type": "markdown",
   "metadata": {},
   "source": [
    "# 14.How to get the n largest values of an array"
   ]
  },
  {
   "cell_type": "code",
   "execution_count": 89,
   "metadata": {},
   "outputs": [
    {
     "name": "stdout",
     "output_type": "stream",
     "text": [
      "Original array:\n",
      "[0 1 2 3 4 5 6 7 8 9]\n",
      "[9]\n"
     ]
    }
   ],
   "source": [
    "x = np.arange(10)\n",
    "print(\"Original array:\")\n",
    "print(x)\n",
    "np.random.shuffle(x)\n",
    "n = 1\n",
    "print (x[np.argsort(x)[-n:]])"
   ]
  },
  {
   "cell_type": "markdown",
   "metadata": {},
   "source": [
    "# 15.How to create a record array from a regular array?"
   ]
  },
  {
   "cell_type": "code",
   "execution_count": 91,
   "metadata": {},
   "outputs": [
    {
     "name": "stdout",
     "output_type": "stream",
     "text": [
      "(10, 'Rose', 12.2)\n",
      "(42, 'Lily', 15.)\n",
      "(58, 'Lotus', 20.)\n"
     ]
    }
   ],
   "source": [
    "a1=np.array([10, 42, 58, 70])\n",
    "a2=np.array(['Rose','Lily','Lotus','Mogra'])\n",
    "a3=np.array([12.20,15,20,40])\n",
    "result= np.core.records.fromarrays([a1, a2, a3],names='a,b,c')\n",
    "print(result[0])\n",
    "print(result[1])\n",
    "print(result[2])\n"
   ]
  }
 ],
 "metadata": {
  "kernelspec": {
   "display_name": "Python 3",
   "language": "python",
   "name": "python3"
  },
  "language_info": {
   "codemirror_mode": {
    "name": "ipython",
    "version": 3
   },
   "file_extension": ".py",
   "mimetype": "text/x-python",
   "name": "python",
   "nbconvert_exporter": "python",
   "pygments_lexer": "ipython3",
   "version": "3.7.6"
  }
 },
 "nbformat": 4,
 "nbformat_minor": 2
}
