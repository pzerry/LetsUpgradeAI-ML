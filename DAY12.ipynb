{
 "cells": [
  {
   "cell_type": "markdown",
   "metadata": {},
   "source": [
    "# TESTS ON DATASET "
   ]
  },
  {
   "cell_type": "code",
   "execution_count": 31,
   "metadata": {},
   "outputs": [
    {
     "name": "stdout",
     "output_type": "stream",
     "text": [
      "Index(['Age', 'Attrition', 'BusinessTravel', 'Department', 'DistanceFromHome',\n",
      "       'Education', 'EducationField', 'EmployeeCount', 'EmployeeID', 'Gender',\n",
      "       'JobLevel', 'JobRole', 'MaritalStatus', 'MonthlyIncome',\n",
      "       'NumCompaniesWorked', 'Over18', 'PercentSalaryHike', 'StandardHours',\n",
      "       'StockOptionLevel', 'TotalWorkingYears', 'TrainingTimesLastYear',\n",
      "       'YearsAtCompany', 'YearsSinceLastPromotion', 'YearsWithCurrManager'],\n",
      "      dtype='object')\n"
     ]
    }
   ],
   "source": [
    "import pandas as pd\n",
    "import matplotlib.pyplot as mp\n",
    "d1 = pd.read_csv(\"general_data.csv\")\n",
    "d1=d1.dropna()\n",
    "print(d1.columns)"
   ]
  },
  {
   "cell_type": "code",
   "execution_count": 17,
   "metadata": {},
   "outputs": [
    {
     "name": "stdout",
     "output_type": "stream",
     "text": [
      "Age                       -0.409517\n",
      "DistanceFromHome          -0.230691\n",
      "Education                 -0.565008\n",
      "EmployeeCount              0.000000\n",
      "EmployeeID                -1.198607\n",
      "JobLevel                   0.388189\n",
      "MonthlyIncome              0.990836\n",
      "NumCompaniesWorked         0.014307\n",
      "PercentSalaryHike         -0.306951\n",
      "StandardHours              0.000000\n",
      "StockOptionLevel           0.356755\n",
      "TotalWorkingYears          0.909316\n",
      "TrainingTimesLastYear      0.494215\n",
      "YearsAtCompany             3.930726\n",
      "YearsSinceLastPromotion    3.592162\n",
      "YearsWithCurrManager       0.170703\n",
      "dtype: float64\n"
     ]
    }
   ],
   "source": [
    "print(d1[['Age', 'Attrition', 'BusinessTravel', 'Department', 'DistanceFromHome',\n",
    "       'Education', 'EducationField', 'EmployeeCount', 'EmployeeID', 'Gender',\n",
    "       'JobLevel', 'JobRole', 'MaritalStatus', 'MonthlyIncome',\n",
    "       'NumCompaniesWorked', 'Over18', 'PercentSalaryHike', 'StandardHours',\n",
    "       'StockOptionLevel', 'TotalWorkingYears', 'TrainingTimesLastYear',\n",
    "       'YearsAtCompany', 'YearsSinceLastPromotion', 'YearsWithCurrManager']].kurt())"
   ]
  },
  {
   "cell_type": "markdown",
   "metadata": {},
   "source": [
    "# CHI SQUARE TEST between Gender and Attrition\n",
    "\n",
    "H0 >> Attrition behaviour is not same for both male and female\n",
    "\n",
    "Ha >> Attrition behaviour is same for both male and female"
   ]
  },
  {
   "cell_type": "code",
   "execution_count": 22,
   "metadata": {},
   "outputs": [
    {
     "name": "stdout",
     "output_type": "stream",
     "text": [
      "1.3825823839528295 0.23966176275638887\n"
     ]
    }
   ],
   "source": [
    "from scipy.stats import chi2_contingency\n",
    "c=pd.crosstab(d1.Attrition,d1.Gender)\n",
    "stats,p,dof,expected = chi2_contingency(c)\n",
    "print(stats,p)\n"
   ]
  },
  {
   "cell_type": "markdown",
   "metadata": {},
   "source": [
    "# Conclusion:\n",
    "As p-value > 0.05,\n",
    "Hence H0 will be accepted"
   ]
  },
  {
   "cell_type": "markdown",
   "metadata": {},
   "source": [
    "# CHI SQUARE TEST between MaritalStatus and Attrition\n",
    "\n",
    "H0 >> The attrition rate is not the same among employees of different marital status.\n",
    "\n",
    "Ha >> The attrition rate is not the same among employees of different marital status."
   ]
  },
  {
   "cell_type": "code",
   "execution_count": 23,
   "metadata": {},
   "outputs": [
    {
     "name": "stdout",
     "output_type": "stream",
     "text": [
      "133.85785802925156 8.573051828219379e-30\n"
     ]
    }
   ],
   "source": [
    "from scipy.stats import chi2_contingency\n",
    "c=pd.crosstab(d1.Attrition,d1.MaritalStatus)\n",
    "stats,p,dof,expected = chi2_contingency(c)\n",
    "print(stats,p) "
   ]
  },
  {
   "cell_type": "markdown",
   "metadata": {},
   "source": [
    "# Conclusion:\n",
    "As we can see that, p < 0.05 so Ha will be accepted and H0 will be rejected"
   ]
  },
  {
   "cell_type": "markdown",
   "metadata": {},
   "source": [
    "# MANN-WHITNEY TEST between Attrition and MonthlyIncome\n",
    "\n",
    "H0 >> Monthly income has no significant effect on attrition\n",
    "\n",
    "Ha >>  Monthly income has significant effect on attrition"
   ]
  },
  {
   "cell_type": "code",
   "execution_count": 26,
   "metadata": {},
   "outputs": [
    {
     "name": "stdout",
     "output_type": "stream",
     "text": [
      "0.0 0.0\n"
     ]
    }
   ],
   "source": [
    "d1['Attrition'] = pd.factorize(d1.Attrition)[0]\n",
    "from scipy.stats import mannwhitneyu\n",
    "stats,p = mannwhitneyu(d1.Attrition,d1.MonthlyIncome)\n",
    "print(stats,p) "
   ]
  },
  {
   "cell_type": "markdown",
   "metadata": {},
   "source": [
    "# Conclusion:\n",
    "Here p value is 0.0, so Ha will be accepted"
   ]
  },
  {
   "cell_type": "markdown",
   "metadata": {},
   "source": [
    "# MANN-WHITNEY TEST between Attrition and PercentSalaryHike\n",
    "\n",
    "H0 >> Salary Hike has no impact on Attrition\n",
    "\n",
    "Ha >> Salary Hike leads to less Attrition"
   ]
  },
  {
   "cell_type": "code",
   "execution_count": 29,
   "metadata": {},
   "outputs": [
    {
     "name": "stdout",
     "output_type": "stream",
     "text": [
      "0.0 0.0\n"
     ]
    }
   ],
   "source": [
    "from scipy.stats import mannwhitneyu\n",
    "stats,p = mannwhitneyu(d1.Attrition,d1.PercentSalaryHike)\n",
    "print(stats,p) "
   ]
  },
  {
   "cell_type": "markdown",
   "metadata": {},
   "source": [
    "# Conclusion:\n",
    "p-value < 0.05, therefore Ha accepted"
   ]
  }
 ],
 "metadata": {
  "kernelspec": {
   "display_name": "Python 3",
   "language": "python",
   "name": "python3"
  },
  "language_info": {
   "codemirror_mode": {
    "name": "ipython",
    "version": 3
   },
   "file_extension": ".py",
   "mimetype": "text/x-python",
   "name": "python",
   "nbconvert_exporter": "python",
   "pygments_lexer": "ipython3",
   "version": "3.7.6"
  }
 },
 "nbformat": 4,
 "nbformat_minor": 4
}
